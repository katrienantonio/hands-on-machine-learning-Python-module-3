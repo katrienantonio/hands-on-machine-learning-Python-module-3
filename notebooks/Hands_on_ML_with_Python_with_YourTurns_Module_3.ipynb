{
  "cells": [
    {
      "cell_type": "markdown",
      "metadata": {
        "id": "Ll-0K6jlXkXd"
      },
      "source": [
        "<center> <h1> <span style=\"color:black\"> Hands-on Machine Learning with Python  </h1> </center> \n",
        "<center> <h2> <span style=\"color:red\"> Module 3: Neural networks </h1> </center>"
      ]
    },
    {
      "cell_type": "markdown",
      "metadata": {
        "id": "P58TOeTnO3fS"
      },
      "source": [
        "# Structure of the notebook\n",
        "\n",
        "* [Chapter 1 - Tensors](#one)\n",
        "\n",
        "* [Chapter 2 - Data sets used in this course](#two)\n",
        "    + [2.1 MTPL data](#two-one)\n",
        "    + [2.2 MNIST](#two-two)\n",
        "\n",
        "* [Chapter 3 - Artificial neural networks](#three)\n",
        "    + [3.1 Preparing the MNIST dataset](#three-one)\n",
        "    + [3.2 Your first neural network](#three-two)\n",
        "    + [3.3 Model evaluation](#three-three)\n",
        "    + [3.4 Inspecting the calibrated weights](#three-four)\n",
        "\n",
        "* [Chapter 4 - Fitting a GLM with a Neural network](#four)\n",
        "    + [4.1 A GLM with only an intercept](#four-one)\n",
        "    + [4.2 (Your turn) A binomial Neural Network](#four-two)\n",
        "    + [4.3 Taking exposure into account in a neural network](#four-three)\n",
        "    + [4.4 Adding a numeric covariates](#four-four)\n",
        "    + [4.5 Adding a categorical covariate](#four-five)\n",
        "    + [4.6 CANN - Combined Actuarial Neural Network](#four-six)\n",
        "    \n",
        "* [Chapter 5 - More types of neural networks](#five)\n",
        "    + [5.1 Convolutional neural networks](#five-one)\n",
        "    + [5.2 Auto encoders](#five-two)"
      ]
    },
    {
      "cell_type": "markdown",
      "metadata": {
        "id": "6J2TN498QP_Z"
      },
      "source": [
        "# Chapter 1 - Tensors <a name=\"one\"></a>"
      ]
    },
    {
      "cell_type": "markdown",
      "metadata": {
        "id": "ROYD1mu30prE"
      },
      "source": [
        "**TensorFlow** is an end-to-end open source platform for machine learning. It has a comprehensive, flexible ecosystem of tools, libraries and community resources that lets researchers push the state-of-the-art in ML and developers easily build and deploy ML powered applications."
      ]
    },
    {
      "cell_type": "markdown",
      "metadata": {
        "id": "wDT7b9ap0prE"
      },
      "source": [
        "**Keras** is a high-level neural networks library that is running on the top of TensorFlow. Using Keras in deep learning allows for easy and fast prototyping as well as running seamlessly on CPU and GPU. This framework is written in Python code which is easy to debug and allows ease for extensibility. "
      ]
    },
    {
      "cell_type": "code",
      "source": [
        "import keras\n",
        "import tensorflow as tf"
      ],
      "metadata": {
        "id": "gyoUqvdmgtk3"
      },
      "execution_count": null,
      "outputs": []
    },
    {
      "cell_type": "code",
      "execution_count": null,
      "metadata": {
        "colab": {
          "base_uri": "https://localhost:8080/"
        },
        "id": "jULp1LWm0prI",
        "outputId": "dc8276bf-87f6-4062-bc97-b741ba2c992a"
      },
      "outputs": [
        {
          "output_type": "execute_result",
          "data": {
            "text/plain": [
              "<tf.Tensor: shape=(3, 2), dtype=float32, numpy=\n",
              "array([[1., 2.],\n",
              "       [3., 4.],\n",
              "       [5., 6.]], dtype=float32)>"
            ]
          },
          "metadata": {},
          "execution_count": 2
        }
      ],
      "source": [
        "# create 2D tensor (3x2) with custom values\n",
        "x = tf.constant([1,2,3,4,5,6], shape = [3,2], dtype=tf.float32); x"
      ]
    },
    {
      "cell_type": "code",
      "execution_count": null,
      "metadata": {
        "colab": {
          "base_uri": "https://localhost:8080/"
        },
        "id": "ZNgA_ZEb0prI",
        "outputId": "e409db87-a42a-46b4-db27-8a133dd52336"
      },
      "outputs": [
        {
          "output_type": "execute_result",
          "data": {
            "text/plain": [
              "<tf.Tensor: shape=(2, 2), dtype=float32, numpy=\n",
              "array([[1., 1.],\n",
              "       [1., 1.]], dtype=float32)>"
            ]
          },
          "metadata": {},
          "execution_count": 3
        }
      ],
      "source": [
        "# create 2D tensor (2x2) with only unit values\n",
        "ones = tf.ones(shape=[2,2], dtype=tf.float32); ones"
      ]
    },
    {
      "cell_type": "code",
      "execution_count": null,
      "metadata": {
        "colab": {
          "base_uri": "https://localhost:8080/"
        },
        "id": "37d8I4fL0prJ",
        "outputId": "452b7a72-dfac-404d-be34-9927f8c14c95"
      },
      "outputs": [
        {
          "output_type": "execute_result",
          "data": {
            "text/plain": [
              "<tf.Tensor: shape=(2,), dtype=float32, numpy=array([3., 4.], dtype=float32)>"
            ]
          },
          "metadata": {},
          "execution_count": 4
        }
      ],
      "source": [
        "# column-wise mean\n",
        "tf.math.reduce_mean(x, axis = 0)"
      ]
    },
    {
      "cell_type": "code",
      "execution_count": null,
      "metadata": {
        "colab": {
          "base_uri": "https://localhost:8080/"
        },
        "id": "K3VDQkkM0prJ",
        "outputId": "eecfb4c7-07d0-4c24-a9f2-8ff08faaf2e2"
      },
      "outputs": [
        {
          "output_type": "execute_result",
          "data": {
            "text/plain": [
              "<tf.Tensor: shape=(3,), dtype=float32, numpy=array([1.5, 3.5, 5.5], dtype=float32)>"
            ]
          },
          "metadata": {},
          "execution_count": 5
        }
      ],
      "source": [
        "# row-wise mean\n",
        "tf.math.reduce_mean(x, axis = 1)"
      ]
    },
    {
      "cell_type": "markdown",
      "metadata": {
        "id": "aYAXa5nw0prJ"
      },
      "source": [
        "**Note that** Object x is also numpy-compatible, so it is possible to calculate the mean using _np.mean_. _tf.reduce_mean_ is multi-threaded, typically calculated on your GPU. _np.mean_ is calculated on a single CPU."
      ]
    },
    {
      "cell_type": "code",
      "source": [
        "import numpy as np"
      ],
      "metadata": {
        "id": "_15iHjp2hJo_"
      },
      "execution_count": null,
      "outputs": []
    },
    {
      "cell_type": "code",
      "execution_count": null,
      "metadata": {
        "colab": {
          "base_uri": "https://localhost:8080/"
        },
        "id": "S44ucafn0prJ",
        "outputId": "0f6f75c3-f0fe-4ed8-cf5e-5006a5c03e7b"
      },
      "outputs": [
        {
          "output_type": "execute_result",
          "data": {
            "text/plain": [
              "array([1.5, 3.5, 5.5], dtype=float32)"
            ]
          },
          "metadata": {},
          "execution_count": 7
        }
      ],
      "source": [
        "# row-wise mean\n",
        "np.mean(x, axis = 1)"
      ]
    },
    {
      "cell_type": "code",
      "execution_count": null,
      "metadata": {
        "colab": {
          "base_uri": "https://localhost:8080/"
        },
        "id": "JFV_YEpn0prK",
        "outputId": "eeb21947-ce3d-45b5-bd17-742058390033"
      },
      "outputs": [
        {
          "output_type": "execute_result",
          "data": {
            "text/plain": [
              "array([3., 4.], dtype=float32)"
            ]
          },
          "metadata": {},
          "execution_count": 8
        }
      ],
      "source": [
        "# column-wise mean\n",
        "np.mean(x, axis = 0)"
      ]
    },
    {
      "cell_type": "code",
      "execution_count": null,
      "metadata": {
        "colab": {
          "base_uri": "https://localhost:8080/"
        },
        "id": "uCM-6Blp0prK",
        "outputId": "caa81993-bb82-497b-db82-927fc015a538"
      },
      "outputs": [
        {
          "output_type": "execute_result",
          "data": {
            "text/plain": [
              "3.5"
            ]
          },
          "metadata": {},
          "execution_count": 9
        }
      ],
      "source": [
        "# general matrix mean\n",
        "np.mean(x)"
      ]
    },
    {
      "cell_type": "markdown",
      "source": [
        "**Your turn!**\n",
        "\n",
        "1. Create a 3-dimensional tensor with values 1,...,12 and shape (2,3,2)\n",
        "2. Compute the logarithm of the tensor you created. Find the appropriate method in the [tensorflow documentation](https://www.tensorflow.org/api_docs/python/tf). \n",
        "3. Calculate the mean over the last axis"
      ],
      "metadata": {
        "id": "OtRqrdtEhPYm"
      }
    },
    {
      "cell_type": "markdown",
      "metadata": {
        "id": "Dt-i9h8Y0prL"
      },
      "source": [
        "**Question 1:** Create a 3-dimensional tensor with values 1,...,12 and shape (2,3,2)"
      ]
    },
    {
      "cell_type": "code",
      "source": [
        "x = tf.constant(range(1,13), shape = [2,3,2], dtype=tf.float32)\n",
        "x"
      ],
      "metadata": {
        "id": "x8m0BIsV-ycq",
        "colab": {
          "base_uri": "https://localhost:8080/"
        },
        "outputId": "e23102ed-2d07-4123-fa9a-cfb4762b23c5"
      },
      "execution_count": null,
      "outputs": [
        {
          "output_type": "execute_result",
          "data": {
            "text/plain": [
              "<tf.Tensor: shape=(2, 3, 2), dtype=float32, numpy=\n",
              "array([[[ 1.,  2.],\n",
              "        [ 3.,  4.],\n",
              "        [ 5.,  6.]],\n",
              "\n",
              "       [[ 7.,  8.],\n",
              "        [ 9., 10.],\n",
              "        [11., 12.]]], dtype=float32)>"
            ]
          },
          "metadata": {},
          "execution_count": 14
        }
      ]
    },
    {
      "cell_type": "markdown",
      "metadata": {
        "id": "jLkNdLuT0prL"
      },
      "source": [
        "**Question 2:** Calculate the logarithm"
      ]
    },
    {
      "cell_type": "code",
      "source": [
        "tf.math.log(x)"
      ],
      "metadata": {
        "id": "OutCx06t-x-6",
        "colab": {
          "base_uri": "https://localhost:8080/"
        },
        "outputId": "96a63661-61a7-45a7-dd73-fc128c7dd3e6"
      },
      "execution_count": null,
      "outputs": [
        {
          "output_type": "execute_result",
          "data": {
            "text/plain": [
              "<tf.Tensor: shape=(2, 3, 2), dtype=float32, numpy=\n",
              "array([[[0.       , 0.6931472],\n",
              "        [1.0986123, 1.3862944],\n",
              "        [1.609438 , 1.7917595]],\n",
              "\n",
              "       [[1.9459102, 2.0794415],\n",
              "        [2.1972246, 2.3025851],\n",
              "        [2.3978953, 2.4849067]]], dtype=float32)>"
            ]
          },
          "metadata": {},
          "execution_count": 15
        }
      ]
    },
    {
      "cell_type": "code",
      "source": [
        "np.log(x)"
      ],
      "metadata": {
        "colab": {
          "base_uri": "https://localhost:8080/"
        },
        "id": "f_s0_4-AZ2hh",
        "outputId": "4814c47f-8c97-4b77-a191-379551610e73"
      },
      "execution_count": null,
      "outputs": [
        {
          "output_type": "execute_result",
          "data": {
            "text/plain": [
              "array([[[0.       , 0.6931472],\n",
              "        [1.0986123, 1.3862944],\n",
              "        [1.609438 , 1.7917595]],\n",
              "\n",
              "       [[1.9459102, 2.0794415],\n",
              "        [2.1972246, 2.3025851],\n",
              "        [2.3978953, 2.4849067]]], dtype=float32)"
            ]
          },
          "metadata": {},
          "execution_count": 16
        }
      ]
    },
    {
      "cell_type": "markdown",
      "metadata": {
        "id": "CF4kVln60prM"
      },
      "source": [
        "**Question 3:** Calculate the mean over the last axis"
      ]
    },
    {
      "cell_type": "code",
      "source": [
        "tf.math.reduce_mean(x, axis = -1)"
      ],
      "metadata": {
        "id": "Dzg8JSA3-xnc",
        "colab": {
          "base_uri": "https://localhost:8080/"
        },
        "outputId": "b284c64a-b335-4af8-a2e1-a58f05e47ccc"
      },
      "execution_count": null,
      "outputs": [
        {
          "output_type": "execute_result",
          "data": {
            "text/plain": [
              "<tf.Tensor: shape=(2, 3), dtype=float32, numpy=\n",
              "array([[ 1.5,  3.5,  5.5],\n",
              "       [ 7.5,  9.5, 11.5]], dtype=float32)>"
            ]
          },
          "metadata": {},
          "execution_count": 17
        }
      ]
    },
    {
      "cell_type": "markdown",
      "metadata": {
        "id": "TCqCYHUh0prC"
      },
      "source": [
        "# Chapter 2 - Data sets used in this course <a name=\"two\"></a>"
      ]
    },
    {
      "cell_type": "markdown",
      "metadata": {
        "id": "zQIbXopv0wAe"
      },
      "source": [
        "## 2.1 MTPL data <a name=\"two-one\"></a>"
      ]
    },
    {
      "cell_type": "markdown",
      "metadata": {
        "id": "v6FYFWod0wAe"
      },
      "source": [
        "We will (once again) use the Motor Third Party Liability data set. There are 163,231 policyholders in this data set."
      ]
    },
    {
      "cell_type": "markdown",
      "metadata": {
        "id": "o29sazN30wAf"
      },
      "source": [
        "The frequency of claiming ( nclaims ) and corresponding severity ( avg , the amount paid on average per claim reported by a\n",
        "policyholder) are the target variables in this data set."
      ]
    },
    {
      "cell_type": "markdown",
      "metadata": {
        "id": "NfZkA_V60wAf"
      },
      "source": [
        "Predictor variables are:\n",
        "* the exposure-to-risk, the duration of the insurance coverage (max. 1 year)\n",
        "* factor variables, e.g. gender, coverage, fuel\n",
        "* continuous, numeric variables, e.g. age of the policyholder, age of the car\n",
        "* spatial information: postal code (in Belgium) of the municipality where the policyholder resides.  \n",
        "\n",
        "More details in [Henckaerts et al. (2018, Scandinavian Actuarial Journal)](https://katrienantonio.github.io/projects/2019/06/13/machine-learning/#data-driven) and [Henckaerts et al. (2019, arxiv)](https://katrienantonio.github.io/projects/2019/06/13/machine-learning/#tree-based-pricing)."
      ]
    },
    {
      "cell_type": "code",
      "source": [
        "import pandas as pd\n",
        "from sklearn.model_selection import train_test_split"
      ],
      "metadata": {
        "id": "MzzC22Cfmm-O"
      },
      "execution_count": null,
      "outputs": []
    },
    {
      "cell_type": "code",
      "execution_count": null,
      "metadata": {
        "id": "Gr9Y7hYUycLk"
      },
      "outputs": [],
      "source": [
        "# load data using separator to correctly parse from .txt\n",
        "df = pd.read_csv(\"https://katrienantonio.github.io/hands-on-machine-learning-R-module-1/data/PC_data.txt\", sep=r\"\\s+\")"
      ]
    },
    {
      "cell_type": "code",
      "execution_count": null,
      "metadata": {
        "id": "VzIxp76BycLl"
      },
      "outputs": [],
      "source": [
        "# column names to smaller case\n",
        "df.columns = map(str.lower, df.columns)"
      ]
    },
    {
      "cell_type": "code",
      "execution_count": null,
      "metadata": {
        "colab": {
          "base_uri": "https://localhost:8080/",
          "height": 270
        },
        "id": "owtaOE4OycLl",
        "outputId": "f963611c-af34-4d70-b880-cd25b87da263"
      },
      "outputs": [
        {
          "output_type": "execute_result",
          "data": {
            "text/plain": [
              "   id  nclaims       amount          avg      expo coverage      fuel  \\\n",
              "0   1        1  1618.001036  1618.001036  1.000000      TPL  gasoline   \n",
              "1   2        0     0.000000          NaN  1.000000       PO  gasoline   \n",
              "2   3        0     0.000000          NaN  1.000000      TPL    diesel   \n",
              "3   4        0     0.000000          NaN  1.000000      TPL  gasoline   \n",
              "4   5        1   155.974606   155.974606  0.046575      TPL  gasoline   \n",
              "\n",
              "       use fleet     sex  ageph  bm  agec  power    pc     town      long  \\\n",
              "0  private     N    male     50   5    12     77  1000  BRUSSEL  4.355223   \n",
              "1  private     N  female     64   5     3     66  1000  BRUSSEL  4.355223   \n",
              "2  private     N    male     60   0    10     70  1000  BRUSSEL  4.355223   \n",
              "3  private     N    male     77   0    15     57  1000  BRUSSEL  4.355223   \n",
              "4  private     N  female     28   9     7     70  1000  BRUSSEL  4.355223   \n",
              "\n",
              "         lat  \n",
              "0  50.845386  \n",
              "1  50.845386  \n",
              "2  50.845386  \n",
              "3  50.845386  \n",
              "4  50.845386  "
            ],
            "text/html": [
              "\n",
              "  <div id=\"df-8af66f21-d0f2-4b27-9511-1d64b9c79bc3\">\n",
              "    <div class=\"colab-df-container\">\n",
              "      <div>\n",
              "<style scoped>\n",
              "    .dataframe tbody tr th:only-of-type {\n",
              "        vertical-align: middle;\n",
              "    }\n",
              "\n",
              "    .dataframe tbody tr th {\n",
              "        vertical-align: top;\n",
              "    }\n",
              "\n",
              "    .dataframe thead th {\n",
              "        text-align: right;\n",
              "    }\n",
              "</style>\n",
              "<table border=\"1\" class=\"dataframe\">\n",
              "  <thead>\n",
              "    <tr style=\"text-align: right;\">\n",
              "      <th></th>\n",
              "      <th>id</th>\n",
              "      <th>nclaims</th>\n",
              "      <th>amount</th>\n",
              "      <th>avg</th>\n",
              "      <th>expo</th>\n",
              "      <th>coverage</th>\n",
              "      <th>fuel</th>\n",
              "      <th>use</th>\n",
              "      <th>fleet</th>\n",
              "      <th>sex</th>\n",
              "      <th>ageph</th>\n",
              "      <th>bm</th>\n",
              "      <th>agec</th>\n",
              "      <th>power</th>\n",
              "      <th>pc</th>\n",
              "      <th>town</th>\n",
              "      <th>long</th>\n",
              "      <th>lat</th>\n",
              "    </tr>\n",
              "  </thead>\n",
              "  <tbody>\n",
              "    <tr>\n",
              "      <th>0</th>\n",
              "      <td>1</td>\n",
              "      <td>1</td>\n",
              "      <td>1618.001036</td>\n",
              "      <td>1618.001036</td>\n",
              "      <td>1.000000</td>\n",
              "      <td>TPL</td>\n",
              "      <td>gasoline</td>\n",
              "      <td>private</td>\n",
              "      <td>N</td>\n",
              "      <td>male</td>\n",
              "      <td>50</td>\n",
              "      <td>5</td>\n",
              "      <td>12</td>\n",
              "      <td>77</td>\n",
              "      <td>1000</td>\n",
              "      <td>BRUSSEL</td>\n",
              "      <td>4.355223</td>\n",
              "      <td>50.845386</td>\n",
              "    </tr>\n",
              "    <tr>\n",
              "      <th>1</th>\n",
              "      <td>2</td>\n",
              "      <td>0</td>\n",
              "      <td>0.000000</td>\n",
              "      <td>NaN</td>\n",
              "      <td>1.000000</td>\n",
              "      <td>PO</td>\n",
              "      <td>gasoline</td>\n",
              "      <td>private</td>\n",
              "      <td>N</td>\n",
              "      <td>female</td>\n",
              "      <td>64</td>\n",
              "      <td>5</td>\n",
              "      <td>3</td>\n",
              "      <td>66</td>\n",
              "      <td>1000</td>\n",
              "      <td>BRUSSEL</td>\n",
              "      <td>4.355223</td>\n",
              "      <td>50.845386</td>\n",
              "    </tr>\n",
              "    <tr>\n",
              "      <th>2</th>\n",
              "      <td>3</td>\n",
              "      <td>0</td>\n",
              "      <td>0.000000</td>\n",
              "      <td>NaN</td>\n",
              "      <td>1.000000</td>\n",
              "      <td>TPL</td>\n",
              "      <td>diesel</td>\n",
              "      <td>private</td>\n",
              "      <td>N</td>\n",
              "      <td>male</td>\n",
              "      <td>60</td>\n",
              "      <td>0</td>\n",
              "      <td>10</td>\n",
              "      <td>70</td>\n",
              "      <td>1000</td>\n",
              "      <td>BRUSSEL</td>\n",
              "      <td>4.355223</td>\n",
              "      <td>50.845386</td>\n",
              "    </tr>\n",
              "    <tr>\n",
              "      <th>3</th>\n",
              "      <td>4</td>\n",
              "      <td>0</td>\n",
              "      <td>0.000000</td>\n",
              "      <td>NaN</td>\n",
              "      <td>1.000000</td>\n",
              "      <td>TPL</td>\n",
              "      <td>gasoline</td>\n",
              "      <td>private</td>\n",
              "      <td>N</td>\n",
              "      <td>male</td>\n",
              "      <td>77</td>\n",
              "      <td>0</td>\n",
              "      <td>15</td>\n",
              "      <td>57</td>\n",
              "      <td>1000</td>\n",
              "      <td>BRUSSEL</td>\n",
              "      <td>4.355223</td>\n",
              "      <td>50.845386</td>\n",
              "    </tr>\n",
              "    <tr>\n",
              "      <th>4</th>\n",
              "      <td>5</td>\n",
              "      <td>1</td>\n",
              "      <td>155.974606</td>\n",
              "      <td>155.974606</td>\n",
              "      <td>0.046575</td>\n",
              "      <td>TPL</td>\n",
              "      <td>gasoline</td>\n",
              "      <td>private</td>\n",
              "      <td>N</td>\n",
              "      <td>female</td>\n",
              "      <td>28</td>\n",
              "      <td>9</td>\n",
              "      <td>7</td>\n",
              "      <td>70</td>\n",
              "      <td>1000</td>\n",
              "      <td>BRUSSEL</td>\n",
              "      <td>4.355223</td>\n",
              "      <td>50.845386</td>\n",
              "    </tr>\n",
              "  </tbody>\n",
              "</table>\n",
              "</div>\n",
              "      <button class=\"colab-df-convert\" onclick=\"convertToInteractive('df-8af66f21-d0f2-4b27-9511-1d64b9c79bc3')\"\n",
              "              title=\"Convert this dataframe to an interactive table.\"\n",
              "              style=\"display:none;\">\n",
              "        \n",
              "  <svg xmlns=\"http://www.w3.org/2000/svg\" height=\"24px\"viewBox=\"0 0 24 24\"\n",
              "       width=\"24px\">\n",
              "    <path d=\"M0 0h24v24H0V0z\" fill=\"none\"/>\n",
              "    <path d=\"M18.56 5.44l.94 2.06.94-2.06 2.06-.94-2.06-.94-.94-2.06-.94 2.06-2.06.94zm-11 1L8.5 8.5l.94-2.06 2.06-.94-2.06-.94L8.5 2.5l-.94 2.06-2.06.94zm10 10l.94 2.06.94-2.06 2.06-.94-2.06-.94-.94-2.06-.94 2.06-2.06.94z\"/><path d=\"M17.41 7.96l-1.37-1.37c-.4-.4-.92-.59-1.43-.59-.52 0-1.04.2-1.43.59L10.3 9.45l-7.72 7.72c-.78.78-.78 2.05 0 2.83L4 21.41c.39.39.9.59 1.41.59.51 0 1.02-.2 1.41-.59l7.78-7.78 2.81-2.81c.8-.78.8-2.07 0-2.86zM5.41 20L4 18.59l7.72-7.72 1.47 1.35L5.41 20z\"/>\n",
              "  </svg>\n",
              "      </button>\n",
              "      \n",
              "  <style>\n",
              "    .colab-df-container {\n",
              "      display:flex;\n",
              "      flex-wrap:wrap;\n",
              "      gap: 12px;\n",
              "    }\n",
              "\n",
              "    .colab-df-convert {\n",
              "      background-color: #E8F0FE;\n",
              "      border: none;\n",
              "      border-radius: 50%;\n",
              "      cursor: pointer;\n",
              "      display: none;\n",
              "      fill: #1967D2;\n",
              "      height: 32px;\n",
              "      padding: 0 0 0 0;\n",
              "      width: 32px;\n",
              "    }\n",
              "\n",
              "    .colab-df-convert:hover {\n",
              "      background-color: #E2EBFA;\n",
              "      box-shadow: 0px 1px 2px rgba(60, 64, 67, 0.3), 0px 1px 3px 1px rgba(60, 64, 67, 0.15);\n",
              "      fill: #174EA6;\n",
              "    }\n",
              "\n",
              "    [theme=dark] .colab-df-convert {\n",
              "      background-color: #3B4455;\n",
              "      fill: #D2E3FC;\n",
              "    }\n",
              "\n",
              "    [theme=dark] .colab-df-convert:hover {\n",
              "      background-color: #434B5C;\n",
              "      box-shadow: 0px 1px 3px 1px rgba(0, 0, 0, 0.15);\n",
              "      filter: drop-shadow(0px 1px 2px rgba(0, 0, 0, 0.3));\n",
              "      fill: #FFFFFF;\n",
              "    }\n",
              "  </style>\n",
              "\n",
              "      <script>\n",
              "        const buttonEl =\n",
              "          document.querySelector('#df-8af66f21-d0f2-4b27-9511-1d64b9c79bc3 button.colab-df-convert');\n",
              "        buttonEl.style.display =\n",
              "          google.colab.kernel.accessAllowed ? 'block' : 'none';\n",
              "\n",
              "        async function convertToInteractive(key) {\n",
              "          const element = document.querySelector('#df-8af66f21-d0f2-4b27-9511-1d64b9c79bc3');\n",
              "          const dataTable =\n",
              "            await google.colab.kernel.invokeFunction('convertToInteractive',\n",
              "                                                     [key], {});\n",
              "          if (!dataTable) return;\n",
              "\n",
              "          const docLinkHtml = 'Like what you see? Visit the ' +\n",
              "            '<a target=\"_blank\" href=https://colab.research.google.com/notebooks/data_table.ipynb>data table notebook</a>'\n",
              "            + ' to learn more about interactive tables.';\n",
              "          element.innerHTML = '';\n",
              "          dataTable['output_type'] = 'display_data';\n",
              "          await google.colab.output.renderOutput(dataTable, element);\n",
              "          const docLink = document.createElement('div');\n",
              "          docLink.innerHTML = docLinkHtml;\n",
              "          element.appendChild(docLink);\n",
              "        }\n",
              "      </script>\n",
              "    </div>\n",
              "  </div>\n",
              "  "
            ]
          },
          "metadata": {},
          "execution_count": 21
        }
      ],
      "source": [
        "# rename exp to expo\n",
        "df.rename(columns={'exp':'expo'}, inplace = True); df.head()"
      ]
    },
    {
      "cell_type": "code",
      "execution_count": null,
      "metadata": {
        "colab": {
          "base_uri": "https://localhost:8080/"
        },
        "id": "Z_C05rccycLm",
        "outputId": "4c8fa4b4-6c42-4d47-a5a3-972a3f8c884b"
      },
      "outputs": [
        {
          "output_type": "stream",
          "name": "stdout",
          "text": [
            "train size:(122423, 18), test size:(40808, 18)\n"
          ]
        }
      ],
      "source": [
        "# train/test split using sklearn\n",
        "train, test = train_test_split(df, test_size=0.25, random_state = 0); print(f'train size:{train.shape}, test size:{test.shape}')"
      ]
    },
    {
      "cell_type": "code",
      "execution_count": null,
      "metadata": {
        "colab": {
          "base_uri": "https://localhost:8080/"
        },
        "id": "bNxM5ETyycLm",
        "outputId": "1e0d3169-5bf2-4648-d79f-6046a1c0b0d1"
      },
      "outputs": [
        {
          "output_type": "stream",
          "name": "stdout",
          "text": [
            "train size:(122423, 18)\n"
          ]
        }
      ],
      "source": [
        "# Reshuffling of the training observations\n",
        "train = train.sample(frac = 1, random_state = 0)\n",
        "print(f'train size:{train.shape}')"
      ]
    },
    {
      "cell_type": "markdown",
      "source": [
        "## 2.2 MNIST <a name=\"two-two\"></a>"
      ],
      "metadata": {
        "id": "XrM1cSfBm5Q2"
      }
    },
    {
      "cell_type": "code",
      "source": [
        "from keras.datasets import mnist\n",
        "\n",
        "(x_train, y_train), (x_test, y_test) = mnist.load_data()"
      ],
      "metadata": {
        "colab": {
          "base_uri": "https://localhost:8080/"
        },
        "id": "vDfRHzb2m__3",
        "outputId": "a70fb281-208b-4c27-f71a-a8807a965fba"
      },
      "execution_count": null,
      "outputs": [
        {
          "output_type": "stream",
          "name": "stdout",
          "text": [
            "Downloading data from https://storage.googleapis.com/tensorflow/tf-keras-datasets/mnist.npz\n",
            "11490434/11490434 [==============================] - 0s 0us/step\n"
          ]
        }
      ]
    },
    {
      "cell_type": "markdown",
      "source": [
        "The training data consists of 60,000 28x28 images in black and white (only one channel per pixel)."
      ],
      "metadata": {
        "id": "RCY7xTKfnS2d"
      }
    },
    {
      "cell_type": "code",
      "source": [
        "x_train.shape"
      ],
      "metadata": {
        "colab": {
          "base_uri": "https://localhost:8080/"
        },
        "id": "C46pxFErnNb2",
        "outputId": "4acdb369-fa85-4467-e465-30ee87e65d81"
      },
      "execution_count": null,
      "outputs": [
        {
          "output_type": "execute_result",
          "data": {
            "text/plain": [
              "(60000, 28, 28)"
            ]
          },
          "metadata": {},
          "execution_count": 25
        }
      ]
    },
    {
      "cell_type": "code",
      "source": [
        "x_train[0,:,:]"
      ],
      "metadata": {
        "colab": {
          "base_uri": "https://localhost:8080/"
        },
        "id": "3je-08pioO3m",
        "outputId": "ae6ec79d-6edc-4a0f-ae15-85c2d4b561c0"
      },
      "execution_count": null,
      "outputs": [
        {
          "output_type": "execute_result",
          "data": {
            "text/plain": [
              "array([[  0,   0,   0,   0,   0,   0,   0,   0,   0,   0,   0,   0,   0,\n",
              "          0,   0,   0,   0,   0,   0,   0,   0,   0,   0,   0,   0,   0,\n",
              "          0,   0],\n",
              "       [  0,   0,   0,   0,   0,   0,   0,   0,   0,   0,   0,   0,   0,\n",
              "          0,   0,   0,   0,   0,   0,   0,   0,   0,   0,   0,   0,   0,\n",
              "          0,   0],\n",
              "       [  0,   0,   0,   0,   0,   0,   0,   0,   0,   0,   0,   0,   0,\n",
              "          0,   0,   0,   0,   0,   0,   0,   0,   0,   0,   0,   0,   0,\n",
              "          0,   0],\n",
              "       [  0,   0,   0,   0,   0,   0,   0,   0,   0,   0,   0,   0,   0,\n",
              "          0,   0,   0,   0,   0,   0,   0,   0,   0,   0,   0,   0,   0,\n",
              "          0,   0],\n",
              "       [  0,   0,   0,   0,   0,   0,   0,   0,   0,   0,   0,   0,   0,\n",
              "          0,   0,   0,   0,   0,   0,   0,   0,   0,   0,   0,   0,   0,\n",
              "          0,   0],\n",
              "       [  0,   0,   0,   0,   0,   0,   0,   0,   0,   0,   0,   0,   3,\n",
              "         18,  18,  18, 126, 136, 175,  26, 166, 255, 247, 127,   0,   0,\n",
              "          0,   0],\n",
              "       [  0,   0,   0,   0,   0,   0,   0,   0,  30,  36,  94, 154, 170,\n",
              "        253, 253, 253, 253, 253, 225, 172, 253, 242, 195,  64,   0,   0,\n",
              "          0,   0],\n",
              "       [  0,   0,   0,   0,   0,   0,   0,  49, 238, 253, 253, 253, 253,\n",
              "        253, 253, 253, 253, 251,  93,  82,  82,  56,  39,   0,   0,   0,\n",
              "          0,   0],\n",
              "       [  0,   0,   0,   0,   0,   0,   0,  18, 219, 253, 253, 253, 253,\n",
              "        253, 198, 182, 247, 241,   0,   0,   0,   0,   0,   0,   0,   0,\n",
              "          0,   0],\n",
              "       [  0,   0,   0,   0,   0,   0,   0,   0,  80, 156, 107, 253, 253,\n",
              "        205,  11,   0,  43, 154,   0,   0,   0,   0,   0,   0,   0,   0,\n",
              "          0,   0],\n",
              "       [  0,   0,   0,   0,   0,   0,   0,   0,   0,  14,   1, 154, 253,\n",
              "         90,   0,   0,   0,   0,   0,   0,   0,   0,   0,   0,   0,   0,\n",
              "          0,   0],\n",
              "       [  0,   0,   0,   0,   0,   0,   0,   0,   0,   0,   0, 139, 253,\n",
              "        190,   2,   0,   0,   0,   0,   0,   0,   0,   0,   0,   0,   0,\n",
              "          0,   0],\n",
              "       [  0,   0,   0,   0,   0,   0,   0,   0,   0,   0,   0,  11, 190,\n",
              "        253,  70,   0,   0,   0,   0,   0,   0,   0,   0,   0,   0,   0,\n",
              "          0,   0],\n",
              "       [  0,   0,   0,   0,   0,   0,   0,   0,   0,   0,   0,   0,  35,\n",
              "        241, 225, 160, 108,   1,   0,   0,   0,   0,   0,   0,   0,   0,\n",
              "          0,   0],\n",
              "       [  0,   0,   0,   0,   0,   0,   0,   0,   0,   0,   0,   0,   0,\n",
              "         81, 240, 253, 253, 119,  25,   0,   0,   0,   0,   0,   0,   0,\n",
              "          0,   0],\n",
              "       [  0,   0,   0,   0,   0,   0,   0,   0,   0,   0,   0,   0,   0,\n",
              "          0,  45, 186, 253, 253, 150,  27,   0,   0,   0,   0,   0,   0,\n",
              "          0,   0],\n",
              "       [  0,   0,   0,   0,   0,   0,   0,   0,   0,   0,   0,   0,   0,\n",
              "          0,   0,  16,  93, 252, 253, 187,   0,   0,   0,   0,   0,   0,\n",
              "          0,   0],\n",
              "       [  0,   0,   0,   0,   0,   0,   0,   0,   0,   0,   0,   0,   0,\n",
              "          0,   0,   0,   0, 249, 253, 249,  64,   0,   0,   0,   0,   0,\n",
              "          0,   0],\n",
              "       [  0,   0,   0,   0,   0,   0,   0,   0,   0,   0,   0,   0,   0,\n",
              "          0,  46, 130, 183, 253, 253, 207,   2,   0,   0,   0,   0,   0,\n",
              "          0,   0],\n",
              "       [  0,   0,   0,   0,   0,   0,   0,   0,   0,   0,   0,   0,  39,\n",
              "        148, 229, 253, 253, 253, 250, 182,   0,   0,   0,   0,   0,   0,\n",
              "          0,   0],\n",
              "       [  0,   0,   0,   0,   0,   0,   0,   0,   0,   0,  24, 114, 221,\n",
              "        253, 253, 253, 253, 201,  78,   0,   0,   0,   0,   0,   0,   0,\n",
              "          0,   0],\n",
              "       [  0,   0,   0,   0,   0,   0,   0,   0,  23,  66, 213, 253, 253,\n",
              "        253, 253, 198,  81,   2,   0,   0,   0,   0,   0,   0,   0,   0,\n",
              "          0,   0],\n",
              "       [  0,   0,   0,   0,   0,   0,  18, 171, 219, 253, 253, 253, 253,\n",
              "        195,  80,   9,   0,   0,   0,   0,   0,   0,   0,   0,   0,   0,\n",
              "          0,   0],\n",
              "       [  0,   0,   0,   0,  55, 172, 226, 253, 253, 253, 253, 244, 133,\n",
              "         11,   0,   0,   0,   0,   0,   0,   0,   0,   0,   0,   0,   0,\n",
              "          0,   0],\n",
              "       [  0,   0,   0,   0, 136, 253, 253, 253, 212, 135, 132,  16,   0,\n",
              "          0,   0,   0,   0,   0,   0,   0,   0,   0,   0,   0,   0,   0,\n",
              "          0,   0],\n",
              "       [  0,   0,   0,   0,   0,   0,   0,   0,   0,   0,   0,   0,   0,\n",
              "          0,   0,   0,   0,   0,   0,   0,   0,   0,   0,   0,   0,   0,\n",
              "          0,   0],\n",
              "       [  0,   0,   0,   0,   0,   0,   0,   0,   0,   0,   0,   0,   0,\n",
              "          0,   0,   0,   0,   0,   0,   0,   0,   0,   0,   0,   0,   0,\n",
              "          0,   0],\n",
              "       [  0,   0,   0,   0,   0,   0,   0,   0,   0,   0,   0,   0,   0,\n",
              "          0,   0,   0,   0,   0,   0,   0,   0,   0,   0,   0,   0,   0,\n",
              "          0,   0]], dtype=uint8)"
            ]
          },
          "metadata": {},
          "execution_count": 26
        }
      ]
    },
    {
      "cell_type": "markdown",
      "source": [
        "The target variable `y` is a vector of numbers indicating the associated digit."
      ],
      "metadata": {
        "id": "8JQTwe4vnjP9"
      }
    },
    {
      "cell_type": "code",
      "source": [
        "y_train.shape"
      ],
      "metadata": {
        "colab": {
          "base_uri": "https://localhost:8080/"
        },
        "id": "1N844RD_nf4N",
        "outputId": "2a9991e1-260e-47ab-85d0-951f00f1e021"
      },
      "execution_count": null,
      "outputs": [
        {
          "output_type": "execute_result",
          "data": {
            "text/plain": [
              "(60000,)"
            ]
          },
          "metadata": {},
          "execution_count": 28
        }
      ]
    },
    {
      "cell_type": "code",
      "source": [
        "y_train[0]"
      ],
      "metadata": {
        "colab": {
          "base_uri": "https://localhost:8080/"
        },
        "id": "3z0zFYAroUue",
        "outputId": "e85e22ff-ecc3-40b5-c5d3-6e9e98b2e3a5"
      },
      "execution_count": null,
      "outputs": [
        {
          "output_type": "execute_result",
          "data": {
            "text/plain": [
              "5"
            ]
          },
          "metadata": {},
          "execution_count": 30
        }
      ]
    },
    {
      "cell_type": "code",
      "source": [
        "import matplotlib.pyplot as plt\n",
        "plt.imshow(x_train[0,:,:], cmap='gray')"
      ],
      "metadata": {
        "colab": {
          "base_uri": "https://localhost:8080/",
          "height": 447
        },
        "id": "iYzjp-Ptq3lG",
        "outputId": "ef5f8753-72c8-42bc-d341-3685151a7fa7"
      },
      "execution_count": null,
      "outputs": [
        {
          "output_type": "execute_result",
          "data": {
            "text/plain": [
              "<matplotlib.image.AxesImage at 0x7f8d0a51e850>"
            ]
          },
          "metadata": {},
          "execution_count": 27
        },
        {
          "output_type": "display_data",
          "data": {
            "text/plain": [
              "<Figure size 640x480 with 1 Axes>"
            ],
            "image/png": "[encoded data removed]"
          },
          "metadata": {}
        }
      ]
    },
    {
      "cell_type": "markdown",
      "source": [
        "# Chapter 3 - Artificial neural networks <a name=\"three\"></a>"
      ],
      "metadata": {
        "id": "suBqcm3Xn1xF"
      }
    },
    {
      "cell_type": "markdown",
      "source": [
        "## 3.1 Preparing the MNIST dataset <a name=\"three-one\"></a>"
      ],
      "metadata": {
        "id": "NInVMAhro6sU"
      }
    },
    {
      "cell_type": "markdown",
      "source": [
        "The MNIST is a 3D tensor. In our first models we will ignore the intrinsic structure of the data and flatten the data to a 2D tensor, i.e. the table structure we are familiar working with."
      ],
      "metadata": {
        "id": "6QLPgCr2o-B9"
      }
    },
    {
      "cell_type": "code",
      "source": [
        "input = tf.reshape(x_train, [len(x_train), 28*28])\n",
        "test_input = tf.reshape(x_test, [len(x_test), 28*28])"
      ],
      "metadata": {
        "id": "9oxHuHI9o5qe"
      },
      "execution_count": null,
      "outputs": []
    },
    {
      "cell_type": "code",
      "source": [
        "input.shape"
      ],
      "metadata": {
        "colab": {
          "base_uri": "https://localhost:8080/"
        },
        "id": "R17jPN0LpoX9",
        "outputId": "75f94dab-5d26-402e-b4fe-fdd5110a0a4d"
      },
      "execution_count": null,
      "outputs": [
        {
          "output_type": "execute_result",
          "data": {
            "text/plain": [
              "TensorShape([60000, 784])"
            ]
          },
          "metadata": {},
          "execution_count": 32
        }
      ]
    },
    {
      "cell_type": "markdown",
      "source": [
        "We transform the target variable from a 1 dimensional tensor into a 2 dimensional tensor with one column per outcome. Instead of predicting the count (regression), we predict 10 binary flags (classifiation)."
      ],
      "metadata": {
        "id": "2PdWh_DSqJDN"
      }
    },
    {
      "cell_type": "code",
      "source": [
        "output = keras.utils.to_categorical(y_train)\n",
        "test_output = keras.utils.to_categorical(y_test)"
      ],
      "metadata": {
        "id": "F7fP5-OBp6Pk"
      },
      "execution_count": null,
      "outputs": []
    },
    {
      "cell_type": "code",
      "source": [
        "output.shape"
      ],
      "metadata": {
        "colab": {
          "base_uri": "https://localhost:8080/"
        },
        "id": "g19AU1bgqcZl",
        "outputId": "48de2785-743c-4307-995a-0789d2ddbcbb"
      },
      "execution_count": null,
      "outputs": [
        {
          "output_type": "execute_result",
          "data": {
            "text/plain": [
              "(60000, 10)"
            ]
          },
          "metadata": {},
          "execution_count": 34
        }
      ]
    },
    {
      "cell_type": "code",
      "source": [
        "output[0,:]"
      ],
      "metadata": {
        "colab": {
          "base_uri": "https://localhost:8080/"
        },
        "id": "fBqhZzWWs9YY",
        "outputId": "275c389d-6466-427b-dd34-a155b06d7693"
      },
      "execution_count": null,
      "outputs": [
        {
          "output_type": "execute_result",
          "data": {
            "text/plain": [
              "array([0., 0., 0., 0., 0., 1., 0., 0., 0., 0.], dtype=float32)"
            ]
          },
          "metadata": {},
          "execution_count": 35
        }
      ]
    },
    {
      "cell_type": "markdown",
      "source": [
        "## 3.2 Your first neural network <a name=\"three-two\"></a>"
      ],
      "metadata": {
        "id": "n3HD9eiH1hBQ"
      }
    },
    {
      "cell_type": "markdown",
      "source": [
        "Define the model using the **sequential** API in `keras`"
      ],
      "metadata": {
        "id": "CumS9P682M9X"
      }
    },
    {
      "cell_type": "code",
      "source": [
        "first_model = keras.models.Sequential([\n",
        "  keras.layers.Dense(units = 512, activation='relu', input_shape = [784]),\n",
        "  keras.layers.Dense(10, activation = 'softmax')\n",
        "])"
      ],
      "metadata": {
        "id": "xLtf18ek1qPY"
      },
      "execution_count": null,
      "outputs": []
    },
    {
      "cell_type": "markdown",
      "source": [
        "Compile the model by adding a loss function and chosing an optimizer"
      ],
      "metadata": {
        "id": "2bBu-IvN2b93"
      }
    },
    {
      "cell_type": "code",
      "source": [
        "first_model.compile(\n",
        "    loss = 'categorical_crossentropy', \n",
        "    optimizer = keras.optimizers.RMSprop(), \n",
        "    metrics = ['accuracy']\n",
        "  )"
      ],
      "metadata": {
        "id": "8UGMeFDM2iRv"
      },
      "execution_count": null,
      "outputs": []
    },
    {
      "cell_type": "markdown",
      "source": [
        "The **fit()** method shows the following parametrization:\n",
        "* **x = input_intercept**: input_intercept contains the values of the nodes in the input layer.\n",
        "* **y = counts**: use the claim counts as target.\n",
        "* **epochs = 10**: perform 10 training iterations over the complete data.\n",
        "* **batch_size = 128**: use batches with 128 observations to update weights.\n",
        "* **validation_split = 0.2**: use 20% of the observations as a hold-out validation set.\n",
        "* **verbose = 0**: silence keras such that no output is generated during fitting.\n"
      ],
      "metadata": {
        "id": "rInBHonV3Gun"
      }
    },
    {
      "cell_type": "code",
      "source": [
        "history = first_model.fit(\n",
        "    x = input,\n",
        "    y = output,\n",
        "    epochs = 10,\n",
        "    batch_size = 128,\n",
        "    validation_split = 0.2,\n",
        "    verbose = 1\n",
        "  )"
      ],
      "metadata": {
        "colab": {
          "base_uri": "https://localhost:8080/"
        },
        "id": "wQw9CKLv3IbV",
        "outputId": "2ce68ba8-cd26-4035-90f6-d7f4d34cddcd"
      },
      "execution_count": null,
      "outputs": [
        {
          "output_type": "stream",
          "name": "stdout",
          "text": [
            "Epoch 1/10\n",
            "375/375 [==============================] - 6s 13ms/step - loss: 7.7122 - accuracy: 0.8887 - val_loss: 1.2025 - val_accuracy: 0.9371\n",
            "Epoch 2/10\n",
            "375/375 [==============================] - 4s 11ms/step - loss: 0.8571 - accuracy: 0.9503 - val_loss: 0.9907 - val_accuracy: 0.9502\n",
            "Epoch 3/10\n",
            "375/375 [==============================] - 5s 13ms/step - loss: 0.5798 - accuracy: 0.9640 - val_loss: 0.8858 - val_accuracy: 0.9608\n",
            "Epoch 4/10\n",
            "375/375 [==============================] - 5s 12ms/step - loss: 0.4752 - accuracy: 0.9707 - val_loss: 0.8519 - val_accuracy: 0.9614\n",
            "Epoch 5/10\n",
            "375/375 [==============================] - 4s 11ms/step - loss: 0.3898 - accuracy: 0.9758 - val_loss: 0.9241 - val_accuracy: 0.9609\n",
            "Epoch 6/10\n",
            "375/375 [==============================] - 5s 14ms/step - loss: 0.3026 - accuracy: 0.9799 - val_loss: 0.9054 - val_accuracy: 0.9651\n",
            "Epoch 7/10\n",
            "375/375 [==============================] - 4s 12ms/step - loss: 0.3033 - accuracy: 0.9815 - val_loss: 0.9053 - val_accuracy: 0.9682\n",
            "Epoch 8/10\n",
            "375/375 [==============================] - 4s 12ms/step - loss: 0.2746 - accuracy: 0.9839 - val_loss: 0.9695 - val_accuracy: 0.9675\n",
            "Epoch 9/10\n",
            "375/375 [==============================] - 5s 14ms/step - loss: 0.2516 - accuracy: 0.9852 - val_loss: 1.0074 - val_accuracy: 0.9673\n",
            "Epoch 10/10\n",
            "375/375 [==============================] - 4s 11ms/step - loss: 0.2061 - accuracy: 0.9872 - val_loss: 1.1778 - val_accuracy: 0.9670\n"
          ]
        }
      ]
    },
    {
      "cell_type": "markdown",
      "source": [
        "The loss on the validation set only decreases in the first few epochs, whereas the loss on the training set keeps decreasing. This is a sign that we are **overfitting** our data. However, accuracy consistently increases on both the training and validation set. The model is becoming **more accurate** (high chance to identify the correct digit), but **overconfident** (probabilities become difficult to interpret)."
      ],
      "metadata": {
        "id": "8iqRSBrA8ztM"
      }
    },
    {
      "cell_type": "markdown",
      "source": [
        "The `fit()` functions returns a `keras.callbacks.History` object, which can be used to visualize the training history of the model."
      ],
      "metadata": {
        "id": "OmWqxyig-tSB"
      }
    },
    {
      "cell_type": "code",
      "source": [
        "print(history.__class__)\n",
        "print(history.history.keys())"
      ],
      "metadata": {
        "colab": {
          "base_uri": "https://localhost:8080/"
        },
        "id": "RS__GCOG-hI6",
        "outputId": "2b655b51-4d64-4462-b4dd-7ab4322df9b7"
      },
      "execution_count": null,
      "outputs": [
        {
          "output_type": "stream",
          "name": "stdout",
          "text": [
            "<class 'keras.callbacks.History'>\n",
            "dict_keys(['loss', 'accuracy', 'val_loss', 'val_accuracy'])\n"
          ]
        }
      ]
    },
    {
      "cell_type": "code",
      "source": [
        "history.history['loss']"
      ],
      "metadata": {
        "colab": {
          "base_uri": "https://localhost:8080/"
        },
        "id": "Ckv3vvaH_BR5",
        "outputId": "2f05083f-0133-471f-eb6f-8060675c81e5"
      },
      "execution_count": null,
      "outputs": [
        {
          "output_type": "execute_result",
          "data": {
            "text/plain": [
              "[7.712244033813477,\n",
              " 0.8571267127990723,\n",
              " 0.5798482298851013,\n",
              " 0.4751700758934021,\n",
              " 0.3898155987262726,\n",
              " 0.3026300072669983,\n",
              " 0.3032919764518738,\n",
              " 0.27462688088417053,\n",
              " 0.2516363263130188,\n",
              " 0.2060937136411667]"
            ]
          },
          "metadata": {},
          "execution_count": 40
        }
      ]
    },
    {
      "cell_type": "markdown",
      "source": [
        "We define a function to visualize the history such that we can easily reuse it for future model fits."
      ],
      "metadata": {
        "id": "KPpGk3dtBDCp"
      }
    },
    {
      "cell_type": "code",
      "source": [
        "def Visualize_history(history, metric:str) -> None:\n",
        "  training = history.history[metric]\n",
        "  validation = history.history[f\"val_{metric}\"]\n",
        "\n",
        "  df = pd.concat([\n",
        "      pd.DataFrame({\n",
        "        'epoch': range(len(training)), \n",
        "        metric: training,\n",
        "        'group': 'train'\n",
        "      }),\n",
        "      pd.DataFrame({\n",
        "        'epoch': range(len(validation)), \n",
        "        metric: validation,\n",
        "        'group': 'validation'\n",
        "      })\n",
        "  ]).reset_index()\n",
        "\n",
        "  import seaborn as sns\n",
        "  sns.lineplot(x=\"epoch\", y=metric, hue='group', data=df)"
      ],
      "metadata": {
        "id": "ARELfROr_FVQ"
      },
      "execution_count": null,
      "outputs": []
    },
    {
      "cell_type": "code",
      "source": [
        "Visualize_history(history, 'loss')"
      ],
      "metadata": {
        "colab": {
          "base_uri": "https://localhost:8080/",
          "height": 451
        },
        "id": "tlO3CXjTA4t5",
        "outputId": "5ccb31f3-4393-4586-9b15-b0176b07287d"
      },
      "execution_count": null,
      "outputs": [
        {
          "output_type": "display_data",
          "data": {
            "text/plain": [
              "<Figure size 640x480 with 1 Axes>"
            ],
            "image/png": "[encoded data removed]"
          },
          "metadata": {}
        }
      ]
    },
    {
      "cell_type": "code",
      "source": [
        "Visualize_history(history, 'accuracy')"
      ],
      "metadata": {
        "colab": {
          "base_uri": "https://localhost:8080/",
          "height": 449
        },
        "id": "Rtx2XeQyA1n5",
        "outputId": "1c14c13b-f26a-4c1b-9f45-146fcf66593e"
      },
      "execution_count": null,
      "outputs": [
        {
          "output_type": "display_data",
          "data": {
            "text/plain": [
              "<Figure size 640x480 with 1 Axes>"
            ],
            "image/png": "[encoded data removed]"
          },
          "metadata": {}
        }
      ]
    },
    {
      "cell_type": "markdown",
      "source": [
        "**Your turn!**\n",
        "Experiment and build your own neural network. Try to obtain a better performance on the training and validation set.\n",
        "\n",
        "Some ideas:\n",
        "* Add hidden layers\n",
        "* Change batch size / number of epochs\n",
        "* Change the activation function\n",
        "\n",
        "More ideas can be found on the course sheets!"
      ],
      "metadata": {
        "id": "LxF_KPlO-RNN"
      }
    },
    {
      "cell_type": "code",
      "source": [
        "model = keras.models.Sequential([\n",
        "  keras.layers.BatchNormalization(input_shape = [784]),\n",
        "  keras.layers.GaussianNoise(stddev = .1),\n",
        "  keras.layers.Dropout(rate = 0.05),\n",
        "  keras.layers.Dense(units = 128, activation='relu'),\n",
        "  keras.layers.Dense(10, activation = 'softmax')\n",
        "])\n",
        "\n",
        "model.compile(\n",
        "    loss = 'categorical_crossentropy', \n",
        "    optimizer = keras.optimizers.RMSprop(), \n",
        "    metrics = ['accuracy']\n",
        "  )\n",
        "\n",
        "model.fit(\n",
        "    x = input,\n",
        "    y = output,\n",
        "    epochs = 10,\n",
        "    batch_size = 1024,\n",
        "    validation_split = 0.2,\n",
        "    verbose = 1\n",
        "  )"
      ],
      "metadata": {
        "colab": {
          "base_uri": "https://localhost:8080/"
        },
        "id": "iKtZSxLlRhFh",
        "outputId": "0f3be882-2312-4587-de4a-6ab9dc3b90f5"
      },
      "execution_count": null,
      "outputs": [
        {
          "output_type": "stream",
          "name": "stdout",
          "text": [
            "Epoch 1/10\n",
            "47/47 [==============================] - 5s 73ms/step - loss: 0.5195 - accuracy: 0.8498 - val_loss: 0.3468 - val_accuracy: 0.8976\n",
            "Epoch 2/10\n",
            "47/47 [==============================] - 2s 49ms/step - loss: 0.2122 - accuracy: 0.9371 - val_loss: 0.1942 - val_accuracy: 0.9456\n",
            "Epoch 3/10\n",
            "47/47 [==============================] - 2s 50ms/step - loss: 0.1530 - accuracy: 0.9542 - val_loss: 0.1527 - val_accuracy: 0.9572\n",
            "Epoch 4/10\n",
            "47/47 [==============================] - 2s 49ms/step - loss: 0.1199 - accuracy: 0.9656 - val_loss: 0.1417 - val_accuracy: 0.9612\n",
            "Epoch 5/10\n",
            "47/47 [==============================] - 3s 66ms/step - loss: 0.0967 - accuracy: 0.9718 - val_loss: 0.1299 - val_accuracy: 0.9649\n",
            "Epoch 6/10\n",
            "47/47 [==============================] - 3s 62ms/step - loss: 0.0816 - accuracy: 0.9764 - val_loss: 0.1236 - val_accuracy: 0.9652\n",
            "Epoch 7/10\n",
            "47/47 [==============================] - 2s 51ms/step - loss: 0.0688 - accuracy: 0.9803 - val_loss: 0.1170 - val_accuracy: 0.9680\n",
            "Epoch 8/10\n",
            "47/47 [==============================] - 2s 50ms/step - loss: 0.0583 - accuracy: 0.9833 - val_loss: 0.1203 - val_accuracy: 0.9697\n",
            "Epoch 9/10\n",
            "47/47 [==============================] - 2s 52ms/step - loss: 0.0504 - accuracy: 0.9852 - val_loss: 0.1207 - val_accuracy: 0.9702\n",
            "Epoch 10/10\n",
            "47/47 [==============================] - 3s 67ms/step - loss: 0.0441 - accuracy: 0.9874 - val_loss: 0.1202 - val_accuracy: 0.9707\n"
          ]
        },
        {
          "output_type": "execute_result",
          "data": {
            "text/plain": [
              "<keras.callbacks.History at 0x7f8cfce9cdc0>"
            ]
          },
          "metadata": {},
          "execution_count": 44
        }
      ]
    },
    {
      "cell_type": "markdown",
      "source": [
        "## 3.3 Model evaluation <a name=\"three-three\"></a>"
      ],
      "metadata": {
        "id": "NE_nrwSp_EIf"
      }
    },
    {
      "cell_type": "markdown",
      "source": [
        "**evaluate()** returns the metrics used during training. `categorical_crossentropy` and `accuracy` for our model. Model performance on the test set is similar to performance on the validation set. "
      ],
      "metadata": {
        "id": "35MfnZI4_LLP"
      }
    },
    {
      "cell_type": "code",
      "source": [
        "first_model.evaluate(test_input, test_output, verbose = 0)"
      ],
      "metadata": {
        "colab": {
          "base_uri": "https://localhost:8080/"
        },
        "id": "HeyU2DD73vy_",
        "outputId": "b37e4047-f2e9-40f7-f09e-fbc93f5e4830"
      },
      "execution_count": null,
      "outputs": [
        {
          "output_type": "execute_result",
          "data": {
            "text/plain": [
              "[1.0667729377746582, 0.9656999707221985]"
            ]
          },
          "metadata": {},
          "execution_count": 45
        }
      ]
    },
    {
      "cell_type": "markdown",
      "source": [
        "**predict()** returns a tensor with the same dimension as the output data. This contains the outcome (probability in our example) assigned to each output node."
      ],
      "metadata": {
        "id": "3WwbeF4O_0aF"
      }
    },
    {
      "cell_type": "code",
      "source": [
        "prediction = first_model.predict(test_input)\n",
        "prediction.shape"
      ],
      "metadata": {
        "colab": {
          "base_uri": "https://localhost:8080/"
        },
        "id": "AMIr8Pu4_xL0",
        "outputId": "ad0ee594-9bae-4261-9ac3-104dadafa1b2"
      },
      "execution_count": null,
      "outputs": [
        {
          "output_type": "stream",
          "name": "stdout",
          "text": [
            "313/313 [==============================] - 1s 4ms/step\n"
          ]
        },
        {
          "output_type": "execute_result",
          "data": {
            "text/plain": [
              "(10000, 10)"
            ]
          },
          "metadata": {},
          "execution_count": 46
        }
      ]
    },
    {
      "cell_type": "code",
      "source": [
        "np.set_printoptions(precision=5)\n",
        "print(prediction[11,:])\n",
        "print(prediction[11,6])"
      ],
      "metadata": {
        "colab": {
          "base_uri": "https://localhost:8080/"
        },
        "id": "zbD0xWs2AGH8",
        "outputId": "1d69c576-255b-435c-cd4a-45716b26411d"
      },
      "execution_count": null,
      "outputs": [
        {
          "output_type": "stream",
          "name": "stdout",
          "text": [
            "[0. 0. 0. 0. 0. 0. 1. 0. 0. 0.]\n",
            "0.99999994\n"
          ]
        }
      ]
    },
    {
      "cell_type": "markdown",
      "source": [
        "The model is **very confident**. We compute the assigned label (highest probability) for each image in the test set."
      ],
      "metadata": {
        "id": "K30-fmY4_dzk"
      }
    },
    {
      "cell_type": "code",
      "source": [
        "prediction[0,:]"
      ],
      "metadata": {
        "colab": {
          "base_uri": "https://localhost:8080/"
        },
        "id": "PE-_fIrTz9g3",
        "outputId": "f5b0bf6c-f1ce-40b2-e030-522795e16ed0"
      },
      "execution_count": null,
      "outputs": [
        {
          "output_type": "execute_result",
          "data": {
            "text/plain": [
              "array([0., 0., 0., 0., 0., 0., 0., 1., 0., 0.], dtype=float32)"
            ]
          },
          "metadata": {},
          "execution_count": 49
        }
      ]
    },
    {
      "cell_type": "code",
      "source": [
        "labels = np.argmax(prediction, axis=1)  \n",
        "labels[0:12]"
      ],
      "metadata": {
        "colab": {
          "base_uri": "https://localhost:8080/"
        },
        "id": "xQs_ykJiBSGm",
        "outputId": "e6c6463e-2ff4-4e2b-c2eb-18271476b2dc"
      },
      "execution_count": null,
      "outputs": [
        {
          "output_type": "execute_result",
          "data": {
            "text/plain": [
              "array([7, 2, 1, 0, 4, 1, 4, 9, 5, 9, 0, 6])"
            ]
          },
          "metadata": {},
          "execution_count": 48
        }
      ]
    },
    {
      "cell_type": "markdown",
      "source": [
        "With the labels we can check the accuracy computed earlier."
      ],
      "metadata": {
        "id": "HFLX5jLhDmZB"
      }
    },
    {
      "cell_type": "code",
      "source": [
        "np.mean(labels == y_test)"
      ],
      "metadata": {
        "colab": {
          "base_uri": "https://localhost:8080/"
        },
        "id": "xy-IE_RZBjh9",
        "outputId": "f3c14ebf-2bff-42ea-9207-3e4f7f71ac57"
      },
      "execution_count": null,
      "outputs": [
        {
          "output_type": "execute_result",
          "data": {
            "text/plain": [
              "0.9657"
            ]
          },
          "metadata": {},
          "execution_count": 50
        }
      ]
    },
    {
      "cell_type": "code",
      "source": [
        "misclassified = np.where(labels != y_test)[0]"
      ],
      "metadata": {
        "id": "DJcntlFtDiV3"
      },
      "execution_count": null,
      "outputs": []
    },
    {
      "cell_type": "code",
      "source": [
        "len(misclassified)"
      ],
      "metadata": {
        "colab": {
          "base_uri": "https://localhost:8080/"
        },
        "id": "Ft4LiDUE0RNl",
        "outputId": "7359cc4c-61b8-4100-84e7-160c1377a149"
      },
      "execution_count": null,
      "outputs": [
        {
          "output_type": "execute_result",
          "data": {
            "text/plain": [
              "343"
            ]
          },
          "metadata": {},
          "execution_count": 52
        }
      ]
    },
    {
      "cell_type": "code",
      "source": [
        "index = misclassified[1]\n",
        "print(f\"predicted {labels[index]} with probability {prediction[index, labels[index]]}\")\n",
        "print(f\"actual {y_test[index]}\")\n",
        "plt.imshow(x_test[index,:,:], cmap='gray')"
      ],
      "metadata": {
        "colab": {
          "base_uri": "https://localhost:8080/",
          "height": 482
        },
        "id": "zJ6RZCOHD5wJ",
        "outputId": "1afa85ea-7864-4a15-c1f4-c274052cd658"
      },
      "execution_count": null,
      "outputs": [
        {
          "output_type": "stream",
          "name": "stdout",
          "text": [
            "predicted 3 with probability 0.9999999403953552\n",
            "actual 2\n"
          ]
        },
        {
          "output_type": "execute_result",
          "data": {
            "text/plain": [
              "<matplotlib.image.AxesImage at 0x7f8cffaaab20>"
            ]
          },
          "metadata": {},
          "execution_count": 54
        },
        {
          "output_type": "display_data",
          "data": {
            "text/plain": [
              "<Figure size 640x480 with 1 Axes>"
            ],
            "image/png": "[encoded data removed]"
          },
          "metadata": {}
        }
      ]
    },
    {
      "cell_type": "code",
      "source": [
        "prob_correct = np.array([prediction[row, correct] for row, correct in enumerate(y_test)])\n",
        "lowest_score = np.where(prob_correct.argsort().argsort() < 5)[0]"
      ],
      "metadata": {
        "id": "KZkh7Nm0VvRC"
      },
      "execution_count": null,
      "outputs": []
    },
    {
      "cell_type": "code",
      "source": [
        "prob_correct[lowest_score[0]]"
      ],
      "metadata": {
        "colab": {
          "base_uri": "https://localhost:8080/"
        },
        "id": "Kbefgm7yWm7C",
        "outputId": "9d637d54-ad88-4ee0-b222-ed8cdf2f9c23"
      },
      "execution_count": null,
      "outputs": [
        {
          "output_type": "execute_result",
          "data": {
            "text/plain": [
              "0.0"
            ]
          },
          "metadata": {},
          "execution_count": 56
        }
      ]
    },
    {
      "cell_type": "code",
      "source": [
        "index = lowest_score[0]\n",
        "print(f\"predicted {labels[index]} with probability {prediction[index, labels[index]]}\")\n",
        "print(f\"actual {y_test[index]}\")\n",
        "plt.imshow(x_test[index,:,:], cmap='gray')"
      ],
      "metadata": {
        "colab": {
          "base_uri": "https://localhost:8080/",
          "height": 482
        },
        "id": "17F8mjkUWyyK",
        "outputId": "47cfba47-d1bb-48c0-da93-56bcd1c0e975"
      },
      "execution_count": null,
      "outputs": [
        {
          "output_type": "stream",
          "name": "stdout",
          "text": [
            "predicted 5 with probability 0.9999999403953552\n",
            "actual 9\n"
          ]
        },
        {
          "output_type": "execute_result",
          "data": {
            "text/plain": [
              "<matplotlib.image.AxesImage at 0x7f8cffa9d130>"
            ]
          },
          "metadata": {},
          "execution_count": 57
        },
        {
          "output_type": "display_data",
          "data": {
            "text/plain": [
              "<Figure size 640x480 with 1 Axes>"
            ],
            "image/png": "[encoded data removed]"
          },
          "metadata": {}
        }
      ]
    },
    {
      "cell_type": "code",
      "source": [
        "len(prediction[:, y_test])"
      ],
      "metadata": {
        "colab": {
          "base_uri": "https://localhost:8080/"
        },
        "id": "UMrYmEcuVZNp",
        "outputId": "91e59d24-00e7-4ef3-8071-27d45bdf9340"
      },
      "execution_count": null,
      "outputs": [
        {
          "output_type": "execute_result",
          "data": {
            "text/plain": [
              "10000"
            ]
          },
          "metadata": {},
          "execution_count": 58
        }
      ]
    },
    {
      "cell_type": "markdown",
      "source": [
        "**your turn!**\n",
        "\n",
        "Evaluate your model:\n",
        "* calcualte the accuracy on the test set\n",
        "* visualize some misclassified images from your model\n",
        "* generate an image consisting of random noise and let the model classify this image. What do you think of the result? Hint: Your input should be a 1x784 array (or tensor) with values in [0,255]."
      ],
      "metadata": {
        "id": "TiTqMFTJGkwX"
      }
    },
    {
      "cell_type": "code",
      "source": [
        "noise = np.floor(np.random.rand(1, 28*28) * 256)"
      ],
      "metadata": {
        "id": "I3RHkY4F-66x"
      },
      "execution_count": null,
      "outputs": []
    },
    {
      "cell_type": "code",
      "source": [
        "noise.shape"
      ],
      "metadata": {
        "colab": {
          "base_uri": "https://localhost:8080/"
        },
        "id": "OM58plcs10Sf",
        "outputId": "270c6572-5aee-43ee-aa0d-ba2b2365035d"
      },
      "execution_count": null,
      "outputs": [
        {
          "output_type": "execute_result",
          "data": {
            "text/plain": [
              "(1, 784)"
            ]
          },
          "metadata": {},
          "execution_count": 60
        }
      ]
    },
    {
      "cell_type": "code",
      "source": [
        "plt.imshow(np.reshape(noise, (28, 28)), cmap='gray')"
      ],
      "metadata": {
        "colab": {
          "base_uri": "https://localhost:8080/",
          "height": 447
        },
        "id": "rdNHxR0y14HF",
        "outputId": "2ca668d2-5736-4ad1-fa1f-168459f1e588"
      },
      "execution_count": null,
      "outputs": [
        {
          "output_type": "execute_result",
          "data": {
            "text/plain": [
              "<matplotlib.image.AxesImage at 0x7f8cfceaae20>"
            ]
          },
          "metadata": {},
          "execution_count": 62
        },
        {
          "output_type": "display_data",
          "data": {
            "text/plain": [
              "<Figure size 640x480 with 1 Axes>"
            ],
            "image/png": "[encoded data removed]"
          },
          "metadata": {}
        }
      ]
    },
    {
      "cell_type": "code",
      "source": [
        "first_model.predict(noise)"
      ],
      "metadata": {
        "colab": {
          "base_uri": "https://localhost:8080/"
        },
        "id": "ifCnR-fQ2GWX",
        "outputId": "584abf9c-47eb-446c-d146-09d8bb2a8b02"
      },
      "execution_count": null,
      "outputs": [
        {
          "output_type": "stream",
          "name": "stdout",
          "text": [
            "1/1 [==============================] - 0s 125ms/step\n"
          ]
        },
        {
          "output_type": "execute_result",
          "data": {
            "text/plain": [
              "array([[2.15976e-30, 2.04933e-36, 1.10367e-29, 2.24684e-11, 0.00000e+00,\n",
              "        7.91924e-13, 9.44730e-19, 8.93278e-37, 1.00000e+00, 1.31171e-38]],\n",
              "      dtype=float32)"
            ]
          },
          "metadata": {},
          "execution_count": 63
        }
      ]
    },
    {
      "cell_type": "markdown",
      "source": [
        "## 3.4 Inspecting the calibrated weights <a name=\"three-four\"></a>"
      ],
      "metadata": {
        "id": "YEA1dSKZHS8-"
      }
    },
    {
      "cell_type": "code",
      "source": [
        "first_model.summary()"
      ],
      "metadata": {
        "colab": {
          "base_uri": "https://localhost:8080/"
        },
        "id": "F9LNdEXlHcxn",
        "outputId": "c0cd1d1d-87be-4375-81ed-e88a95901c53"
      },
      "execution_count": null,
      "outputs": [
        {
          "output_type": "stream",
          "name": "stdout",
          "text": [
            "Model: \"sequential\"\n",
            "_________________________________________________________________\n",
            " Layer (type)                Output Shape              Param #   \n",
            "=================================================================\n",
            " dense (Dense)               (None, 512)               401920    \n",
            "                                                                 \n",
            " dense_1 (Dense)             (None, 10)                5130      \n",
            "                                                                 \n",
            "=================================================================\n",
            "Total params: 407,050\n",
            "Trainable params: 407,050\n",
            "Non-trainable params: 0\n",
            "_________________________________________________________________\n"
          ]
        }
      ]
    },
    {
      "cell_type": "markdown",
      "source": [
        "Access the weights of the first layer"
      ],
      "metadata": {
        "id": "O4LY3VgHH25n"
      }
    },
    {
      "cell_type": "code",
      "source": [
        "w1 = first_model.layers[0].get_weights()\n",
        "print(len(w1))\n",
        "print(w1[0].__class__)\n",
        "print(w1[0].shape)\n",
        "print(w1[1].shape)"
      ],
      "metadata": {
        "colab": {
          "base_uri": "https://localhost:8080/"
        },
        "id": "zGeE8fgCHmI2",
        "outputId": "ebe5d2fc-4de7-4552-f0b5-1674f4b4d12d"
      },
      "execution_count": null,
      "outputs": [
        {
          "output_type": "stream",
          "name": "stdout",
          "text": [
            "2\n",
            "<class 'numpy.ndarray'>\n",
            "(784, 512)\n",
            "(512,)\n"
          ]
        }
      ]
    },
    {
      "cell_type": "code",
      "source": [
        "def visualize_weight(weights:np.ndarray) -> None:\n",
        "  weights = weights / np.max(np.abs(weights))\n",
        "  plt.imshow(weights, cmap = 'RdYlGn', alpha = np.abs(weights), vmin=-1, vmax=1)\n"
      ],
      "metadata": {
        "id": "Pur75BTgKGL3"
      },
      "execution_count": null,
      "outputs": []
    },
    {
      "cell_type": "markdown",
      "source": [
        "The trained weights don't tell us much about the features the model has used to classify the digits. Hence, this is a true black box. The pattern might be easier to recognize if we reduce the number of nodes in the first hidden layer."
      ],
      "metadata": {
        "id": "u65BSYmFBdib"
      }
    },
    {
      "cell_type": "code",
      "source": [
        "visualize_weight(np.reshape(w1[0][:,0], (28, 28)))"
      ],
      "metadata": {
        "colab": {
          "base_uri": "https://localhost:8080/",
          "height": 430
        },
        "id": "QaR_pHv-H2bQ",
        "outputId": "72595a23-d495-4bed-c608-b8c5db8f95fd"
      },
      "execution_count": null,
      "outputs": [
        {
          "output_type": "display_data",
          "data": {
            "text/plain": [
              "<Figure size 640x480 with 1 Axes>"
            ],
            "image/png": "[encoded data removed]"
          },
          "metadata": {}
        }
      ]
    },
    {
      "cell_type": "markdown",
      "metadata": {
        "id": "thiUFkS-0wAn"
      },
      "source": [
        "# Chapter 4 - Fitting a GLM with a Neural Network <a name=\"four\"></a>"
      ]
    },
    {
      "cell_type": "markdown",
      "metadata": {
        "id": "psIW0VjUycLn"
      },
      "source": [
        "## 4.1 A GLM with only an intercept <a name=\"four-one\"></a>"
      ]
    },
    {
      "cell_type": "markdown",
      "metadata": {
        "id": "Qq5kdsp8ycLn"
      },
      "source": [
        "Consider the simplest case of a Poisson GLM with only an intercept:"
      ]
    },
    {
      "cell_type": "markdown",
      "metadata": {
        "id": "XyG34oUYycLn"
      },
      "source": [
        "$$\n",
        "\\begin{align}\n",
        "Y \\sim Poisson(\\lambda = \\exp(1\\cdot\\beta))\n",
        "\\end{align}\n",
        "$$"
      ]
    },
    {
      "cell_type": "markdown",
      "metadata": {
        "id": "9-AVLy5dIiC7"
      },
      "source": [
        "![NN_intercept.png](data:image/png;base64,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)"
      ]
    },
    {
      "cell_type": "markdown",
      "metadata": {
        "id": "cknXm464ycLo"
      },
      "source": [
        "Let's fit a neural network with the following parametrization:\n",
        "* There is one input node (intercept, constant one)\n",
        "* There is one output node (number of claims)\n",
        "* There is one connection from the input to the output node\n",
        "* There are no hidden layers"
      ]
    },
    {
      "cell_type": "code",
      "execution_count": null,
      "metadata": {
        "id": "3_OHO17NJSL8"
      },
      "outputs": [],
      "source": [
        "nn_freq_intercept = keras.models.Sequential([\n",
        "  keras.layers.Dense(units = 1, \n",
        "                     activation='exponential',\n",
        "                     input_shape = [1],\n",
        "                     use_bias = False)\n",
        "])"
      ]
    },
    {
      "cell_type": "markdown",
      "metadata": {
        "id": "w14I1nc1ycLp"
      },
      "source": [
        "**QUESTION:** how many parameters does this model have?"
      ]
    },
    {
      "cell_type": "code",
      "execution_count": null,
      "metadata": {
        "colab": {
          "base_uri": "https://localhost:8080/"
        },
        "id": "WU9RjgxzycLp",
        "outputId": "338f8bc9-5f16-4fe9-a991-9cf3ed258f81"
      },
      "outputs": [
        {
          "output_type": "execute_result",
          "data": {
            "text/plain": [
              "1"
            ]
          },
          "metadata": {},
          "execution_count": 121
        }
      ],
      "source": [
        "# answer\n",
        "nn_freq_intercept.count_params()"
      ]
    },
    {
      "cell_type": "code",
      "execution_count": null,
      "metadata": {
        "colab": {
          "base_uri": "https://localhost:8080/"
        },
        "id": "LREYGYnNycLp",
        "outputId": "5bd49a8e-4887-4639-c175-e29ea15aced5"
      },
      "outputs": [
        {
          "output_type": "stream",
          "name": "stdout",
          "text": [
            "Model: \"sequential_7\"\n",
            "_________________________________________________________________\n",
            " Layer (type)                Output Shape              Param #   \n",
            "=================================================================\n",
            " dense_14 (Dense)            (None, 1)                 1         \n",
            "                                                                 \n",
            "=================================================================\n",
            "Total params: 1\n",
            "Trainable params: 1\n",
            "Non-trainable params: 0\n",
            "_________________________________________________________________\n"
          ]
        }
      ],
      "source": [
        "# summary of the structure of the neural netweork\n",
        "nn_freq_intercept.summary()"
      ]
    },
    {
      "cell_type": "markdown",
      "metadata": {
        "id": "tXrIChgSQE7N"
      },
      "source": [
        "Once the architecture is finished, we compile the model and specify the loss function\n",
        "\n",
        "* optimizer: algorithm used to calibrate the model.\n",
        "* loss: loss function to minimize. \n",
        "\n",
        "For Poisson regression, we specify **loss = 'poisson'**.\n",
        "\n"
      ]
    },
    {
      "cell_type": "code",
      "execution_count": null,
      "metadata": {
        "id": "ipoEYZCJQvJN"
      },
      "outputs": [],
      "source": [
        "nn_freq_intercept.compile(optimizer = 'RMSprop', loss = 'poisson', metrics = [tf.keras.metrics.MeanSquaredError()])"
      ]
    },
    {
      "cell_type": "code",
      "execution_count": null,
      "metadata": {
        "colab": {
          "base_uri": "https://localhost:8080/"
        },
        "id": "JEbeNG5iycLp",
        "outputId": "9a8cad89-c38b-4e3b-febe-09680d281b2e"
      },
      "outputs": [
        {
          "output_type": "stream",
          "name": "stdout",
          "text": [
            "size of input vector: 122423, size of counts vector: 122423\n"
          ]
        }
      ],
      "source": [
        "# create input/output vectors\n",
        "input_intercept = np.ones(train.shape[0])\n",
        "counts = np.array(train['nclaims'])\n",
        "print(f'size of input vector: {input_intercept.shape[0]}, size of counts vector: {counts.shape[0]}')"
      ]
    },
    {
      "cell_type": "markdown",
      "source": [
        "Fit the neural network to the data."
      ],
      "metadata": {
        "id": "GK573zDPbNKl"
      }
    },
    {
      "cell_type": "code",
      "execution_count": null,
      "metadata": {
        "colab": {
          "base_uri": "https://localhost:8080/"
        },
        "id": "T2Obx-0hycLq",
        "outputId": "5ea87c58-0d35-417d-da53-ce90b2d2afab"
      },
      "outputs": [
        {
          "output_type": "execute_result",
          "data": {
            "text/plain": [
              "<keras.callbacks.History at 0x7f4bf25afa30>"
            ]
          },
          "metadata": {},
          "execution_count": 126
        }
      ],
      "source": [
        "# fit the neural netword\n",
        "nn_freq_intercept.fit(x = input_intercept,\n",
        "                      y = counts,\n",
        "                      epochs = 30,\n",
        "                      batch_size = 1024,\n",
        "                      validation_split = 0,\n",
        "                      verbose = 0)"
      ]
    },
    {
      "cell_type": "code",
      "execution_count": null,
      "metadata": {
        "colab": {
          "base_uri": "https://localhost:8080/"
        },
        "id": "fbsSmZkCycLq",
        "outputId": "54457457-77a5-41fa-d3eb-c105f49bd405"
      },
      "outputs": [
        {
          "output_type": "execute_result",
          "data": {
            "text/plain": [
              "-2.088635206222534"
            ]
          },
          "metadata": {},
          "execution_count": 127
        }
      ],
      "source": [
        "# get_weights()\n",
        "float(nn_freq_intercept.get_weights()[0])"
      ]
    },
    {
      "cell_type": "code",
      "execution_count": null,
      "metadata": {
        "id": "upZkimJoTLBB"
      },
      "outputs": [],
      "source": [
        "# prepare test data\n",
        "input_intercept_test = np.ones(test.shape[0])\n",
        "counts_test = np.array(test['nclaims'])\n",
        "exposure_test = np.array(test['expo'])"
      ]
    },
    {
      "cell_type": "code",
      "execution_count": null,
      "metadata": {
        "colab": {
          "base_uri": "https://localhost:8080/"
        },
        "id": "5NVHdOEsTLBC",
        "outputId": "2715849c-79d7-4db2-a931-d18ecab3c541"
      },
      "outputs": [
        {
          "output_type": "stream",
          "name": "stdout",
          "text": [
            "size of input vector: 40808, size of counts vector: 40808\n",
            "test Poisson loss, test MSE: [0.37777119874954224, 0.1322314590215683]\n"
          ]
        }
      ],
      "source": [
        "# evaluate the model on the test data using `evaluate`\n",
        "print(f'size of input vector: {input_intercept_test.shape[0]}, size of counts vector: {counts_test.shape[0]}')\n",
        "results = nn_freq_intercept.evaluate(input_intercept_test, counts_test, verbose=0)\n",
        "print(\"test Poisson loss, test MSE:\", results)"
      ]
    },
    {
      "cell_type": "markdown",
      "metadata": {
        "id": "qPplnghrWr7U"
      },
      "source": [
        "**Note**: This is the average loss per observation. The total loss is obtained by multiplying the average loss per observation by the total number of observations."
      ]
    },
    {
      "cell_type": "markdown",
      "metadata": {
        "id": "BpmwnjYkycLq"
      },
      "source": [
        "We compare the results of our neural network with the same model specified as a GLM:"
      ]
    },
    {
      "cell_type": "code",
      "execution_count": null,
      "metadata": {
        "colab": {
          "base_uri": "https://localhost:8080/"
        },
        "id": "L9pv7dF3ycLr",
        "outputId": "2607a3b9-b9d6-4f82-f4c9-3856ed3adfe5"
      },
      "outputs": [
        {
          "output_type": "execute_result",
          "data": {
            "text/plain": [
              "<class 'statsmodels.iolib.summary.Summary'>\n",
              "\"\"\"\n",
              "                 Generalized Linear Model Regression Results                  \n",
              "==============================================================================\n",
              "Dep. Variable:                nclaims   No. Observations:               122423\n",
              "Model:                            GLM   Df Residuals:                   122422\n",
              "Model Family:                 Poisson   Df Model:                            0\n",
              "Link Function:                    Log   Scale:                          1.0000\n",
              "Method:                          IRLS   Log-Likelihood:                -48161.\n",
              "Date:                Mon, 13 Mar 2023   Deviance:                       67871.\n",
              "Time:                        10:06:18   Pearson chi2:                 1.34e+05\n",
              "No. Iterations:                     6   Pseudo R-squ. (CS):          1.110e-16\n",
              "Covariance Type:            nonrobust                                         \n",
              "==============================================================================\n",
              "                 coef    std err          z      P>|z|      [0.025      0.975]\n",
              "------------------------------------------------------------------------------\n",
              "Intercept     -2.0813      0.008   -257.228      0.000      -2.097      -2.065\n",
              "==============================================================================\n",
              "\"\"\""
            ],
            "text/html": [
              "<table class=\"simpletable\">\n",
              "<caption>Generalized Linear Model Regression Results</caption>\n",
              "<tr>\n",
              "  <th>Dep. Variable:</th>        <td>nclaims</td>     <th>  No. Observations:  </th>  <td>122423</td>  \n",
              "</tr>\n",
              "<tr>\n",
              "  <th>Model:</th>                  <td>GLM</td>       <th>  Df Residuals:      </th>  <td>122422</td>  \n",
              "</tr>\n",
              "<tr>\n",
              "  <th>Model Family:</th>         <td>Poisson</td>     <th>  Df Model:          </th>  <td>     0</td>  \n",
              "</tr>\n",
              "<tr>\n",
              "  <th>Link Function:</th>          <td>Log</td>       <th>  Scale:             </th> <td>  1.0000</td> \n",
              "</tr>\n",
              "<tr>\n",
              "  <th>Method:</th>                <td>IRLS</td>       <th>  Log-Likelihood:    </th> <td> -48161.</td> \n",
              "</tr>\n",
              "<tr>\n",
              "  <th>Date:</th>            <td>Mon, 13 Mar 2023</td> <th>  Deviance:          </th> <td>  67871.</td> \n",
              "</tr>\n",
              "<tr>\n",
              "  <th>Time:</th>                <td>10:06:18</td>     <th>  Pearson chi2:      </th> <td>1.34e+05</td> \n",
              "</tr>\n",
              "<tr>\n",
              "  <th>No. Iterations:</th>          <td>6</td>        <th>  Pseudo R-squ. (CS):</th> <td>1.110e-16</td>\n",
              "</tr>\n",
              "<tr>\n",
              "  <th>Covariance Type:</th>     <td>nonrobust</td>    <th>                     </th>     <td> </td>    \n",
              "</tr>\n",
              "</table>\n",
              "<table class=\"simpletable\">\n",
              "<tr>\n",
              "      <td></td>         <th>coef</th>     <th>std err</th>      <th>z</th>      <th>P>|z|</th>  <th>[0.025</th>    <th>0.975]</th>  \n",
              "</tr>\n",
              "<tr>\n",
              "  <th>Intercept</th> <td>   -2.0813</td> <td>    0.008</td> <td> -257.228</td> <td> 0.000</td> <td>   -2.097</td> <td>   -2.065</td>\n",
              "</tr>\n",
              "</table>"
            ]
          },
          "metadata": {},
          "execution_count": 137
        }
      ],
      "source": [
        "import statsmodels.api as sm\n",
        "glm_freq_intercept = sm.formula.glm(\"nclaims ~ 1\", data=train, family=sm.families.Poisson()).fit()\n",
        "glm_freq_intercept.summary()"
      ]
    },
    {
      "cell_type": "markdown",
      "metadata": {
        "id": "hSyvmo6OTLBC"
      },
      "source": [
        "To compare the in-sample deviance of the neural network and the GLM, we have to manually compute the deviance of the neural network:\n",
        "\n",
        "\n"
      ]
    },
    {
      "cell_type": "markdown",
      "metadata": {
        "id": "_iAGDG1JUELp"
      },
      "source": [
        "\n",
        "$$\n",
        "\\begin{align}\n",
        "\\mathcal{D}= 2 \\cdot \\sum_{i}{Y_i \\cdot \\log\\left(\\frac{Y_i}{\\mu_i}\\right) - (Y_i - \\mu_i)},\n",
        "\\end{align}\n",
        "$$\n",
        "where $\\log\\left(\\frac{Y_i}{\\mu_i}\\right)$ is set to zero when $Y_i = 0$."
      ]
    },
    {
      "cell_type": "code",
      "execution_count": null,
      "metadata": {
        "id": "9HSO54G5U-7U",
        "colab": {
          "base_uri": "https://localhost:8080/"
        },
        "outputId": "2c4b426c-06df-42ff-cf0d-e344452757ad"
      },
      "outputs": [
        {
          "output_type": "stream",
          "name": "stdout",
          "text": [
            "3826/3826 [==============================] - 6s 2ms/step\n"
          ]
        }
      ],
      "source": [
        "mu = nn_freq_intercept.predict(input_intercept)[:,0]"
      ]
    },
    {
      "cell_type": "code",
      "execution_count": null,
      "metadata": {
        "colab": {
          "base_uri": "https://localhost:8080/"
        },
        "id": "griruz_ZTLBC",
        "outputId": "767242fc-d1c8-4e20-acd7-e3b8f04975c4"
      },
      "outputs": [
        {
          "output_type": "stream",
          "name": "stdout",
          "text": [
            "3826/3826 [==============================] - 7s 2ms/step\n"
          ]
        },
        {
          "output_type": "stream",
          "name": "stderr",
          "text": [
            "<ipython-input-139-48372648550d>:3: RuntimeWarning: divide by zero encountered in log\n",
            "  log_ratio = np.where(counts == 0, 0, np.log(counts / mu))\n"
          ]
        },
        {
          "output_type": "execute_result",
          "data": {
            "text/plain": [
              "67608.40311386411"
            ]
          },
          "metadata": {},
          "execution_count": 139
        }
      ],
      "source": [
        "# deviance residuals of poisson neural regression\n",
        "mu = nn_freq_intercept.predict(input_intercept)[:,0]  # [:,0] selects the predictions for the first output node\n",
        "log_ratio = np.where(counts == 0, 0, np.log(counts / mu))\n",
        "\n",
        "deviance_nn = 2 * sum(counts * log_ratio - (counts - mu))\n",
        "\n",
        "deviance_nn"
      ]
    },
    {
      "cell_type": "code",
      "execution_count": null,
      "metadata": {
        "colab": {
          "base_uri": "https://localhost:8080/"
        },
        "id": "0ITnmpbxycLr",
        "outputId": "089902e4-704e-417b-ba35-3e44a839fe49"
      },
      "outputs": [
        {
          "output_type": "stream",
          "name": "stdout",
          "text": [
            "NN weights:-2.088635206222534, \n",
            "GLM coefficients:-2.081264755864604\n"
          ]
        }
      ],
      "source": [
        "# comparing the estimated parameter (difference reflects a different optimization technique)\n",
        "print(f'NN weights:{float(nn_freq_intercept.get_weights()[0])}, \\nGLM coefficients:{float(glm_freq_intercept.params)}')"
      ]
    },
    {
      "cell_type": "markdown",
      "metadata": {
        "id": "kdDGEcu5ycLr"
      },
      "source": [
        "## 4.2 Your Turn! <a name=\"four-two\"></a>"
      ]
    },
    {
      "cell_type": "markdown",
      "metadata": {
        "id": "e5l87rcmycLr"
      },
      "source": [
        "**QUESTION 1:** adapt this code to replicate a **binomial** GLM with a **logit link function**. Add **accuracy** as a metric in your model. Consider the following hint:\n",
        "* _Hint 1:_ the sigmoid activation function is the inverse of the logit link function.\n",
        "* _Hint 2:_ the binary_crossentropy loss maximizes the loglikelihood of Bernoulli outcomes:\n",
        "$$\n",
        "\\begin{align}\n",
        "\\sum^{n}_{i=1}{(y_{i}\\cdot log(p_{i})+(1-y_{i})\\cdot log(1-p_{i})).}\n",
        "\\end{align}\n",
        "$$"
      ]
    },
    {
      "cell_type": "markdown",
      "metadata": {
        "id": "fEuqbNF2ycLs"
      },
      "source": [
        "**QUESTION 2:** fit your neural network."
      ]
    },
    {
      "cell_type": "code",
      "source": [],
      "metadata": {
        "id": "hf3C8tkd_T26"
      },
      "execution_count": null,
      "outputs": []
    },
    {
      "cell_type": "markdown",
      "metadata": {
        "id": "oQgGK_L-ycLs"
      },
      "source": [
        "**QUESTION 3:** compare your fitted neural network with a GLM.\n",
        "* _Hint 1:_ to accomodate the fitting of the logistic regression of a categorical vector, we create a binary proxy variable nclaims_proxy with the following characteristics:\n",
        "    * proxy = 0 when x = 0\n",
        "    * proxy = 1 when x > 0"
      ]
    },
    {
      "cell_type": "code",
      "source": [],
      "metadata": {
        "id": "AnSrATRY_UY5"
      },
      "execution_count": null,
      "outputs": []
    },
    {
      "cell_type": "markdown",
      "metadata": {
        "id": "FOrZ2lVUycLu"
      },
      "source": [
        "## 4.3 Taking exposure into account in a neural network <a name=\"four-three\"></a>"
      ]
    },
    {
      "cell_type": "markdown",
      "metadata": {
        "id": "-bMEXD9CY5UA"
      },
      "source": [
        "$$\n",
        "\\begin{align}\n",
        "Y \\sim Poisson(\\lambda = expo \\cdot \\exp(1\\cdot\\beta))\n",
        "\\end{align}\n",
        "$$"
      ]
    },
    {
      "cell_type": "markdown",
      "metadata": {
        "id": "z5dF-XaKY5UB"
      },
      "source": [
        "![NN_intercept.png](data:image/png;base64,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)"
      ]
    },
    {
      "cell_type": "markdown",
      "metadata": {
        "id": "V7jaTw1pycLu"
      },
      "source": [
        "The Poisson loss function, including exposure, is:\n",
        "$$\n",
        "\\begin{align}\n",
        "\\mathcal{L}=\\sum_{i}{expo_{i}\\cdot \\lambda_{i}-y_{i}\\cdot log(expo_{i}\\cdot \\lambda_{i})},\n",
        "\\end{align}\n",
        "$$\n",
        "which is proportional to:\n",
        "$$\n",
        "\\begin{align}\n",
        "\\mathcal{L}=\\sum_{i}{expo_{i}\\cdot (\\lambda_{i}-\\frac{y_{i}}{expo_{i}}log(\\lambda_{i}))}.\n",
        "\\end{align}\n",
        "$$"
      ]
    },
    {
      "cell_type": "markdown",
      "metadata": {
        "id": "gQ1XOyf5ycLu"
      },
      "source": [
        "This is the loss of a Poisson model with:\n",
        "* observations $\\frac{y_{i}}{expo_{i}}$ and\n",
        "* weights $expo_{i}$"
      ]
    },
    {
      "cell_type": "markdown",
      "metadata": {
        "id": "cPJ9iEKhycLu"
      },
      "source": [
        "Notice indeed how the parameter estimates of the following two GLMs are identical."
      ]
    },
    {
      "cell_type": "markdown",
      "metadata": {
        "id": "SIWlk5A1ycLu"
      },
      "source": [
        "a) Including **expo** as an offset"
      ]
    },
    {
      "cell_type": "code",
      "execution_count": null,
      "metadata": {
        "colab": {
          "base_uri": "https://localhost:8080/"
        },
        "id": "55XtR8LfycLu",
        "outputId": "760aa970-8e67-42c9-f543-281020d84bfa"
      },
      "outputs": [
        {
          "output_type": "execute_result",
          "data": {
            "text/plain": [
              "<class 'statsmodels.iolib.summary.Summary'>\n",
              "\"\"\"\n",
              "                 Generalized Linear Model Regression Results                  \n",
              "==============================================================================\n",
              "Dep. Variable:                nclaims   No. Observations:               122423\n",
              "Model:                            GLM   Df Residuals:                   122422\n",
              "Model Family:                 Poisson   Df Model:                            0\n",
              "Link Function:                    Log   Scale:                          1.0000\n",
              "Method:                          IRLS   Log-Likelihood:                -48129.\n",
              "Date:                Mon, 13 Mar 2023   Deviance:                       67807.\n",
              "Time:                        10:25:41   Pearson chi2:                 1.51e+05\n",
              "No. Iterations:                     6   Pseudo R-squ. (CS):         -2.220e-16\n",
              "Covariance Type:            nonrobust                                         \n",
              "==============================================================================\n",
              "                 coef    std err          z      P>|z|      [0.025      0.975]\n",
              "------------------------------------------------------------------------------\n",
              "Intercept     -1.9651      0.008   -242.870      0.000      -1.981      -1.949\n",
              "==============================================================================\n",
              "\"\"\""
            ],
            "text/html": [
              "<table class=\"simpletable\">\n",
              "<caption>Generalized Linear Model Regression Results</caption>\n",
              "<tr>\n",
              "  <th>Dep. Variable:</th>        <td>nclaims</td>     <th>  No. Observations:  </th>   <td>122423</td>  \n",
              "</tr>\n",
              "<tr>\n",
              "  <th>Model:</th>                  <td>GLM</td>       <th>  Df Residuals:      </th>   <td>122422</td>  \n",
              "</tr>\n",
              "<tr>\n",
              "  <th>Model Family:</th>         <td>Poisson</td>     <th>  Df Model:          </th>   <td>     0</td>  \n",
              "</tr>\n",
              "<tr>\n",
              "  <th>Link Function:</th>          <td>Log</td>       <th>  Scale:             </th>  <td>  1.0000</td> \n",
              "</tr>\n",
              "<tr>\n",
              "  <th>Method:</th>                <td>IRLS</td>       <th>  Log-Likelihood:    </th>  <td> -48129.</td> \n",
              "</tr>\n",
              "<tr>\n",
              "  <th>Date:</th>            <td>Mon, 13 Mar 2023</td> <th>  Deviance:          </th>  <td>  67807.</td> \n",
              "</tr>\n",
              "<tr>\n",
              "  <th>Time:</th>                <td>10:25:41</td>     <th>  Pearson chi2:      </th>  <td>1.51e+05</td> \n",
              "</tr>\n",
              "<tr>\n",
              "  <th>No. Iterations:</th>          <td>6</td>        <th>  Pseudo R-squ. (CS):</th> <td>-2.220e-16</td>\n",
              "</tr>\n",
              "<tr>\n",
              "  <th>Covariance Type:</th>     <td>nonrobust</td>    <th>                     </th>      <td> </td>    \n",
              "</tr>\n",
              "</table>\n",
              "<table class=\"simpletable\">\n",
              "<tr>\n",
              "      <td></td>         <th>coef</th>     <th>std err</th>      <th>z</th>      <th>P>|z|</th>  <th>[0.025</th>    <th>0.975]</th>  \n",
              "</tr>\n",
              "<tr>\n",
              "  <th>Intercept</th> <td>   -1.9651</td> <td>    0.008</td> <td> -242.870</td> <td> 0.000</td> <td>   -1.981</td> <td>   -1.949</td>\n",
              "</tr>\n",
              "</table>"
            ]
          },
          "metadata": {},
          "execution_count": 142
        }
      ],
      "source": [
        "# GLM with offset\n",
        "glm_offset = sm.formula.glm(\"nclaims ~ 1\", \n",
        "                            data=train, \n",
        "                            offset = np.log(train.expo),\n",
        "                            family=sm.families.Poisson()).fit(); \n",
        "glm_offset.summary()"
      ]
    },
    {
      "cell_type": "markdown",
      "metadata": {
        "id": "sO0EXQ28ycLv"
      },
      "source": [
        "b) Including **expo** as weights"
      ]
    },
    {
      "cell_type": "code",
      "execution_count": null,
      "metadata": {
        "colab": {
          "base_uri": "https://localhost:8080/"
        },
        "id": "VQZMYP1yycLv",
        "outputId": "fc0e763b-f993-49f0-a8c4-c0224e52833e"
      },
      "outputs": [
        {
          "output_type": "execute_result",
          "data": {
            "text/plain": [
              "<class 'statsmodels.iolib.summary.Summary'>\n",
              "\"\"\"\n",
              "                 Generalized Linear Model Regression Results                  \n",
              "==============================================================================\n",
              "Dep. Variable:        claims_per_expo   No. Observations:               122423\n",
              "Model:                            GLM   Df Residuals:                108994.98\n",
              "Model Family:                 Poisson   Df Model:                            0\n",
              "Link Function:                    Log   Scale:                          1.0000\n",
              "Method:                          IRLS   Log-Likelihood:                -47377.\n",
              "Date:                Mon, 13 Mar 2023   Deviance:                       67807.\n",
              "Time:                        10:39:44   Pearson chi2:                 1.51e+05\n",
              "No. Iterations:                     6   Pseudo R-squ. (CS):              0.000\n",
              "Covariance Type:            nonrobust                                         \n",
              "==============================================================================\n",
              "                 coef    std err          z      P>|z|      [0.025      0.975]\n",
              "------------------------------------------------------------------------------\n",
              "Intercept     -1.9651      0.008   -242.870      0.000      -1.981      -1.949\n",
              "==============================================================================\n",
              "\"\"\""
            ],
            "text/html": [
              "<table class=\"simpletable\">\n",
              "<caption>Generalized Linear Model Regression Results</caption>\n",
              "<tr>\n",
              "  <th>Dep. Variable:</th>    <td>claims_per_expo</td> <th>  No. Observations:  </th>  <td>122423</td>  \n",
              "</tr>\n",
              "<tr>\n",
              "  <th>Model:</th>                  <td>GLM</td>       <th>  Df Residuals:      </th> <td>108994.98</td>\n",
              "</tr>\n",
              "<tr>\n",
              "  <th>Model Family:</th>         <td>Poisson</td>     <th>  Df Model:          </th>  <td>     0</td>  \n",
              "</tr>\n",
              "<tr>\n",
              "  <th>Link Function:</th>          <td>Log</td>       <th>  Scale:             </th> <td>  1.0000</td> \n",
              "</tr>\n",
              "<tr>\n",
              "  <th>Method:</th>                <td>IRLS</td>       <th>  Log-Likelihood:    </th> <td> -47377.</td> \n",
              "</tr>\n",
              "<tr>\n",
              "  <th>Date:</th>            <td>Mon, 13 Mar 2023</td> <th>  Deviance:          </th> <td>  67807.</td> \n",
              "</tr>\n",
              "<tr>\n",
              "  <th>Time:</th>                <td>10:39:44</td>     <th>  Pearson chi2:      </th> <td>1.51e+05</td> \n",
              "</tr>\n",
              "<tr>\n",
              "  <th>No. Iterations:</th>          <td>6</td>        <th>  Pseudo R-squ. (CS):</th>  <td> 0.000</td>  \n",
              "</tr>\n",
              "<tr>\n",
              "  <th>Covariance Type:</th>     <td>nonrobust</td>    <th>                     </th>     <td> </td>    \n",
              "</tr>\n",
              "</table>\n",
              "<table class=\"simpletable\">\n",
              "<tr>\n",
              "      <td></td>         <th>coef</th>     <th>std err</th>      <th>z</th>      <th>P>|z|</th>  <th>[0.025</th>    <th>0.975]</th>  \n",
              "</tr>\n",
              "<tr>\n",
              "  <th>Intercept</th> <td>   -1.9651</td> <td>    0.008</td> <td> -242.870</td> <td> 0.000</td> <td>   -1.981</td> <td>   -1.949</td>\n",
              "</tr>\n",
              "</table>"
            ]
          },
          "metadata": {},
          "execution_count": 152
        }
      ],
      "source": [
        "# GLM including weights\n",
        "train['claims_per_expo'] = train.nclaims / train.expo\n",
        "\n",
        "glm_weights = sm.formula.glm(\"claims_per_expo ~ 1\", \n",
        "                             data=train, \n",
        "                             freq_weights = train.expo, \n",
        "                             family=sm.families.Poisson()).fit(); \n",
        "glm_weights.summary()"
      ]
    },
    {
      "cell_type": "markdown",
      "metadata": {
        "id": "s6N_1pPwycLv"
      },
      "source": [
        "We use the weight argument to also include exposure in our Neural Networks."
      ]
    },
    {
      "cell_type": "code",
      "execution_count": null,
      "metadata": {
        "id": "2afDn7stycLv"
      },
      "outputs": [],
      "source": [
        "# neural network architecture specification\n",
        "nn_freq_exposure = tf.keras.models.Sequential()\n",
        "nn_freq_exposure.add(tf.keras.layers.Dense(units = 1, activation = 'exponential', input_shape = (1,), use_bias = False))\n",
        "nn_freq_exposure.compile(optimizer = 'RMSprop', loss = 'poisson')"
      ]
    },
    {
      "cell_type": "markdown",
      "metadata": {
        "id": "3VOqdt_ZqUW_"
      },
      "source": [
        "Remark that the archetecture of our Neural Network remains the same"
      ]
    },
    {
      "cell_type": "code",
      "execution_count": null,
      "metadata": {
        "id": "1_GDJRDUycLw"
      },
      "outputs": [],
      "source": [
        "# create a vector with exposure values\n",
        "exposure = np.array(train['expo']) # pd.Series must be converted to pd.array due to compatibility reasons with fit() method"
      ]
    },
    {
      "cell_type": "code",
      "execution_count": null,
      "metadata": {
        "colab": {
          "base_uri": "https://localhost:8080/"
        },
        "id": "t0Jf5HmZycLw",
        "outputId": "b8b15e3b-a5a5-4e8a-fca3-e410ae531736",
        "scrolled": true
      },
      "outputs": [
        {
          "output_type": "execute_result",
          "data": {
            "text/plain": [
              "<keras.callbacks.History at 0x7f4bdf054340>"
            ]
          },
          "metadata": {},
          "execution_count": 155
        }
      ],
      "source": [
        "# divide claim counts by exposure and use weights\n",
        "nn_freq_exposure.fit(x = input_intercept,\n",
        "                     y = counts/exposure,\n",
        "                     sample_weight = exposure,\n",
        "                     epochs = 20,\n",
        "                     batch_size = 1024,\n",
        "                     validation_split = 0,\n",
        "                     verbose = 0)"
      ]
    },
    {
      "cell_type": "code",
      "execution_count": null,
      "metadata": {
        "colab": {
          "base_uri": "https://localhost:8080/"
        },
        "id": "EL_z4mDFycLw",
        "outputId": "50103331-d732-4c26-b92a-168f0024e0d1"
      },
      "outputs": [
        {
          "output_type": "execute_result",
          "data": {
            "text/plain": [
              "-1.9742530584335327"
            ]
          },
          "metadata": {},
          "execution_count": 156
        }
      ],
      "source": [
        "# get_weights()\n",
        "float(nn_freq_exposure.get_weights()[0])"
      ]
    },
    {
      "cell_type": "code",
      "execution_count": null,
      "metadata": {
        "colab": {
          "base_uri": "https://localhost:8080/"
        },
        "id": "xOnq7mVsycLw",
        "outputId": "02d3fd51-e7a2-4413-b4fa-0fd9e1d35ca4"
      },
      "outputs": [
        {
          "output_type": "stream",
          "name": "stdout",
          "text": [
            "NN weights:-1.9742530584335327, \n",
            "\n",
            "GLM_offset coefficients:Intercept   -1.965093\n",
            "dtype: float64, \n",
            "\n",
            "GLM_weights coefficients:Intercept   -1.965093\n",
            "dtype: float64\n"
          ]
        }
      ],
      "source": [
        "# comparing the estimated parameter (difference reflects a different optimization technique)\n",
        "print(f'NN weights:{nn_freq_exposure.get_weights()[0][0][0]}, \\n\\nGLM_offset coefficients:{glm_offset.params}, \\n\\nGLM_weights coefficients:{glm_weights.params}')"
      ]
    },
    {
      "cell_type": "markdown",
      "metadata": {
        "id": "BwVIdxPJl0Ik"
      },
      "source": [
        "## 4.4 Adding covariates <a name=\"four-four\"></a>"
      ]
    },
    {
      "cell_type": "markdown",
      "metadata": {
        "id": "1Ndd-NpPZEYF"
      },
      "source": [
        "$$\n",
        "\\begin{align}\n",
        "Y \\sim Poisson(\\lambda = expo \\cdot \\exp(\\beta_0 + ageph \\cdot \\beta))\n",
        "\\end{align}\n",
        "$$"
      ]
    },
    {
      "cell_type": "markdown",
      "metadata": {
        "id": "QTaulSSHsM-0"
      },
      "source": [
        "We now fit a frequency model with:\n",
        "* An intercept\n",
        "* A single covariate age"
      ]
    },
    {
      "cell_type": "code",
      "execution_count": null,
      "metadata": {
        "id": "4KfLmCo6l0Ik"
      },
      "outputs": [],
      "source": [
        "# create a vector with ageph (pd.Series must be converted to pd.array due to compatibility reasons with fit() method)\n",
        "ageph = np.array(train['ageph'])"
      ]
    },
    {
      "cell_type": "code",
      "execution_count": null,
      "metadata": {
        "id": "h-bNbXWHl0Ik"
      },
      "outputs": [],
      "source": [
        "# neural network architecture specification\n",
        "nn_freq_ageph = keras.models.Sequential([\n",
        "  keras.layers.BatchNormalization(input_shape = [1]),\n",
        "  keras.layers.Dense(units = 5, activation='tanh'),\n",
        "  keras.layers.Dense(units = 1, activation='exponential', use_bias = True)\n",
        "])\n",
        "nn_freq_ageph.compile(optimizer = 'RMSprop', loss = 'poisson')"
      ]
    },
    {
      "cell_type": "code",
      "execution_count": null,
      "metadata": {
        "colab": {
          "base_uri": "https://localhost:8080/"
        },
        "id": "k8imZX5xl0Ik",
        "outputId": "cacf5aa3-cd12-4902-a9ce-0419634e99ae"
      },
      "outputs": [
        {
          "output_type": "execute_result",
          "data": {
            "text/plain": [
              "<keras.callbacks.History at 0x7f4bdedb9a00>"
            ]
          },
          "metadata": {},
          "execution_count": 158
        }
      ],
      "source": [
        "nn_freq_ageph.fit(ageph, # ageph is now our input\n",
        "                 counts/exposure,\n",
        "                 sample_weight = exposure,\n",
        "                 epochs = 60,\n",
        "                 batch_size = 1024,\n",
        "                 validation_split = 0,\n",
        "                 verbose = 0)"
      ]
    },
    {
      "cell_type": "markdown",
      "metadata": {
        "id": "c7KJ8JAitigc"
      },
      "source": [
        "Compare with a GLM fitted to a binned ageph covariate"
      ]
    },
    {
      "cell_type": "code",
      "source": [
        "# bin for train dataset\n",
        "bins = [17, 22, 30, 40, 50, 60, 70, 80, 120]\n",
        "train['ageph_binned'] = pd.cut(train['ageph'], bins = bins); print(train.ageph_binned.value_counts());"
      ],
      "metadata": {
        "colab": {
          "base_uri": "https://localhost:8080/"
        },
        "id": "1HIQ_vrgkKnc",
        "outputId": "72b8ab19-f6ea-4f7b-be9c-75f80795c72d"
      },
      "execution_count": null,
      "outputs": [
        {
          "output_type": "stream",
          "name": "stdout",
          "text": [
            "(40, 50]     29102\n",
            "(30, 40]     28177\n",
            "(50, 60]     21135\n",
            "(22, 30]     16608\n",
            "(60, 70]     16494\n",
            "(70, 80]      8175\n",
            "(17, 22]      1618\n",
            "(80, 120]     1114\n",
            "Name: ageph_binned, dtype: int64\n"
          ]
        }
      ]
    },
    {
      "cell_type": "code",
      "source": [
        "glm_age_binned = sm.formula.glm(\"nclaims ~ ageph_binned\", \n",
        "                            data=train, \n",
        "                            offset = np.log(train.expo),\n",
        "                            family=sm.families.Poisson()).fit(); "
      ],
      "metadata": {
        "id": "2PgaDUtHkSxz"
      },
      "execution_count": null,
      "outputs": []
    },
    {
      "cell_type": "markdown",
      "source": [
        "Compare both models"
      ],
      "metadata": {
        "id": "-ekV1L5MkZXj"
      }
    },
    {
      "cell_type": "code",
      "source": [
        "# plotting\n",
        "age = np.array(range(18,96))\n",
        "age_binned = pd.cut(age, bins = bins);\n",
        "glm_pred = glm_age_binned.predict(pd.DataFrame({'ageph_binned':age_binned}))\n",
        "nn_pred = nn_freq_ageph.predict(age)\n",
        "\n",
        "\n",
        "plt.plot(age, nn_pred, label = 'NN')\n",
        "plt.plot(age, glm_pred, label = \"GLM\")\n",
        "plt.xlabel('age')\n",
        "plt.ylabel('fitted_effect')\n",
        "plt.legend()\n",
        "plt.show()"
      ],
      "metadata": {
        "colab": {
          "base_uri": "https://localhost:8080/"
        },
        "id": "heuNulb9kY0z",
        "outputId": "f0a9e4fc-c03f-49b4-c7d0-e710ec92df3e"
      },
      "execution_count": null,
      "outputs": [
        {
          "output_type": "stream",
          "name": "stdout",
          "text": [
            "3/3 [==============================] - 0s 4ms/step\n"
          ]
        },
        {
          "output_type": "display_data",
          "data": {
            "text/plain": [
              "<Figure size 432x288 with 1 Axes>"
            ],
            "image/png": "[encoded data removed]"
          },
          "metadata": {
            "needs_background": "light"
          }
        }
      ]
    },
    {
      "cell_type": "markdown",
      "metadata": {
        "id": "_YNTM6Cu0DH3"
      },
      "source": [
        "The Neural Network fits a smooth age effect, but does not capture:\n",
        "* The elevated risk for young drivers\n",
        "* The increased risk at old ages\n",
        "\n",
        "For simple problems, simple models and expert opinion is often better suited than Neural Networks. At the same time Neural Networks are very good at finding complex patterns and interactions in the data."
      ]
    },
    {
      "cell_type": "markdown",
      "metadata": {
        "id": "hWJ977pRX0eV"
      },
      "source": [
        "## 4.5 Adding one categorical covariate <a name=\"four-five\"></a>"
      ]
    },
    {
      "cell_type": "markdown",
      "metadata": {
        "id": "bS0gdVxrX0eV"
      },
      "source": [
        "$$\n",
        "\\begin{align}\n",
        "Y \\sim Poisson(\\lambda = expo \\cdot \\exp(\\beta_0 + ageph \\cdot \\beta_1 + coverage_{cat1} \\cdot \\beta_2 + coverage_{cat2} \\cdot \\beta_3 + coverage_{cat3} \\cdot \\beta_4))\n",
        "\\end{align}\n",
        "$$"
      ]
    },
    {
      "cell_type": "code",
      "execution_count": null,
      "metadata": {
        "id": "mNZeA4k_X0eV"
      },
      "outputs": [],
      "source": [
        "# tensorflow tool to hot-encode and perform hot encoding\n",
        "from keras.utils import to_categorical"
      ]
    },
    {
      "cell_type": "code",
      "execution_count": null,
      "metadata": {
        "id": "1wfH7JR8X0eV"
      },
      "outputs": [],
      "source": [
        "ageph_continuous = np.array(train['ageph'])"
      ]
    },
    {
      "cell_type": "code",
      "execution_count": null,
      "metadata": {
        "id": "tAH-m0wGX0eV"
      },
      "outputs": [],
      "source": [
        "coverage_hot = to_categorical(train['coverage'].astype('category').cat.codes, num_classes = train['coverage'].unique().shape[0])"
      ]
    },
    {
      "cell_type": "code",
      "execution_count": null,
      "metadata": {
        "id": "1JcmAtgwX0eV"
      },
      "outputs": [],
      "source": [
        "# input data for training the network\n",
        "data_nn_hot = np.concatenate((ageph.reshape(-1,1), coverage_hot), axis = 1)"
      ]
    },
    {
      "cell_type": "code",
      "execution_count": null,
      "metadata": {
        "id": "8DlXGUnyX0eV"
      },
      "outputs": [],
      "source": [
        "# neural network architecture specification\n",
        "nn_freq_ageph_cov = tf.keras.models.Sequential()\n",
        "nn_freq_ageph_cov.add(tf.keras.layers.Dense(units = 1, activation = 'exponential', input_shape = (data_nn.shape[1],), use_bias = True)) # Notice how we set use_bias = TRUE for the intercept.\n",
        "nn_freq_ageph_cov.compile(optimizer = 'RMSprop', loss = 'poisson')"
      ]
    },
    {
      "cell_type": "code",
      "execution_count": null,
      "metadata": {
        "id": "f7h-ujrfX0eW"
      },
      "outputs": [],
      "source": [
        "age = np.array(range(18,96), dtype = np.int32)\n",
        "\n",
        "test_data_nn_1 = pd.DataFrame({'age':age,\n",
        "                             'c1':np.repeat(1., len(range(18,96))),\n",
        "                             'c2':np.repeat(0., len(range(18,96))),\n",
        "                             'c3':np.repeat(0., len(range(18,96)))}).values\n",
        "\n",
        "test_data_nn_2 = pd.DataFrame({'age':age,\n",
        "                             'c1':np.repeat(0., len(range(18,96))),\n",
        "                             'c2':np.repeat(1., len(range(18,96))),\n",
        "                             'c3':np.repeat(0., len(range(18,96)))}).values\n",
        "\n",
        "test_data_nn_3 = pd.DataFrame({'age':age,\n",
        "                             'c1':np.repeat(0., len(range(18,96))),\n",
        "                             'c2':np.repeat(0., len(range(18,96))),\n",
        "                             'c3':np.repeat(1., len(range(18,96)))}).values"
      ]
    },
    {
      "cell_type": "code",
      "execution_count": null,
      "metadata": {
        "id": "8Lcok5iLX0eW",
        "outputId": "54cc1394-65e9-426a-9c42-206ba95976e6"
      },
      "outputs": [
        {
          "name": "stdout",
          "output_type": "stream",
          "text": [
            "Epoch 1/60\n",
            "120/120 [==============================] - 0s 473us/step - loss: 1.4368\n",
            "Epoch 2/60\n",
            "120/120 [==============================] - 0s 342us/step - loss: 0.8430\n",
            "Epoch 3/60\n",
            "120/120 [==============================] - 0s 342us/step - loss: 0.4262\n",
            "Epoch 4/60\n",
            "120/120 [==============================] - 0s 375us/step - loss: 0.3999\n",
            "Epoch 5/60\n",
            "120/120 [==============================] - 0s 392us/step - loss: 0.3938\n",
            "Epoch 6/60\n",
            "120/120 [==============================] - 0s 392us/step - loss: 0.3886\n",
            "Epoch 7/60\n",
            "120/120 [==============================] - 0s 325us/step - loss: 0.3841\n",
            "Epoch 8/60\n",
            "120/120 [==============================] - 0s 400us/step - loss: 0.3803\n",
            "Epoch 9/60\n",
            "120/120 [==============================] - 0s 417us/step - loss: 0.3770\n",
            "Epoch 10/60\n",
            "120/120 [==============================] - 0s 333us/step - loss: 0.3743\n",
            "Epoch 11/60\n",
            "120/120 [==============================] - 0s 333us/step - loss: 0.3721\n",
            "Epoch 12/60\n",
            "120/120 [==============================] - 0s 342us/step - loss: 0.3702\n",
            "Epoch 13/60\n",
            "120/120 [==============================] - 0s 333us/step - loss: 0.3689\n",
            "Epoch 14/60\n",
            "120/120 [==============================] - 0s 342us/step - loss: 0.3678\n",
            "Epoch 15/60\n",
            "120/120 [==============================] - 0s 325us/step - loss: 0.3670\n",
            "Epoch 16/60\n",
            "120/120 [==============================] - 0s 317us/step - loss: 0.3664\n",
            "Epoch 17/60\n",
            "120/120 [==============================] - 0s 342us/step - loss: 0.3659\n",
            "Epoch 18/60\n",
            "120/120 [==============================] - 0s 342us/step - loss: 0.3656\n",
            "Epoch 19/60\n",
            "120/120 [==============================] - 0s 325us/step - loss: 0.3654\n",
            "Epoch 20/60\n",
            "120/120 [==============================] - 0s 325us/step - loss: 0.3651\n",
            "Epoch 21/60\n",
            "120/120 [==============================] - 0s 333us/step - loss: 0.3651\n",
            "Epoch 22/60\n",
            "120/120 [==============================] - 0s 325us/step - loss: 0.3649\n",
            "Epoch 23/60\n",
            "120/120 [==============================] - 0s 325us/step - loss: 0.3649\n",
            "Epoch 24/60\n",
            "120/120 [==============================] - 0s 350us/step - loss: 0.3649\n",
            "Epoch 25/60\n",
            "120/120 [==============================] - 0s 333us/step - loss: 0.3648\n",
            "Epoch 26/60\n",
            "120/120 [==============================] - 0s 325us/step - loss: 0.3648\n",
            "Epoch 27/60\n",
            "120/120 [==============================] - 0s 333us/step - loss: 0.3647\n",
            "Epoch 28/60\n",
            "120/120 [==============================] - 0s 342us/step - loss: 0.3647\n",
            "Epoch 29/60\n",
            "120/120 [==============================] - 0s 333us/step - loss: 0.3647\n",
            "Epoch 30/60\n",
            "120/120 [==============================] - 0s 333us/step - loss: 0.3647\n",
            "Epoch 31/60\n",
            "120/120 [==============================] - 0s 333us/step - loss: 0.3647\n",
            "Epoch 32/60\n",
            "120/120 [==============================] - 0s 333us/step - loss: 0.3647\n",
            "Epoch 33/60\n",
            "120/120 [==============================] - 0s 325us/step - loss: 0.3647\n",
            "Epoch 34/60\n",
            "120/120 [==============================] - 0s 333us/step - loss: 0.3647\n",
            "Epoch 35/60\n",
            "120/120 [==============================] - 0s 333us/step - loss: 0.3647\n",
            "Epoch 36/60\n",
            "120/120 [==============================] - 0s 367us/step - loss: 0.3647\n",
            "Epoch 37/60\n",
            "120/120 [==============================] - 0s 400us/step - loss: 0.3647\n",
            "Epoch 38/60\n",
            "120/120 [==============================] - 0s 375us/step - loss: 0.3647\n",
            "Epoch 39/60\n",
            "120/120 [==============================] - 0s 375us/step - loss: 0.3647\n",
            "Epoch 40/60\n",
            "120/120 [==============================] - 0s 358us/step - loss: 0.3647\n",
            "Epoch 41/60\n",
            "120/120 [==============================] - 0s 358us/step - loss: 0.3647\n",
            "Epoch 42/60\n",
            "120/120 [==============================] - 0s 358us/step - loss: 0.3647\n",
            "Epoch 43/60\n",
            "120/120 [==============================] - 0s 358us/step - loss: 0.3647\n",
            "Epoch 44/60\n",
            "120/120 [==============================] - 0s 367us/step - loss: 0.3647\n",
            "Epoch 45/60\n",
            "120/120 [==============================] - 0s 358us/step - loss: 0.3647\n",
            "Epoch 46/60\n",
            "120/120 [==============================] - 0s 358us/step - loss: 0.3647\n",
            "Epoch 47/60\n",
            "120/120 [==============================] - 0s 358us/step - loss: 0.3647\n",
            "Epoch 48/60\n",
            "120/120 [==============================] - 0s 350us/step - loss: 0.3648\n",
            "Epoch 49/60\n",
            "120/120 [==============================] - 0s 358us/step - loss: 0.3647\n",
            "Epoch 50/60\n",
            "120/120 [==============================] - 0s 358us/step - loss: 0.3648\n",
            "Epoch 51/60\n",
            "120/120 [==============================] - 0s 358us/step - loss: 0.3647\n",
            "Epoch 52/60\n",
            "120/120 [==============================] - 0s 358us/step - loss: 0.3647\n",
            "Epoch 53/60\n",
            "120/120 [==============================] - 0s 358us/step - loss: 0.3647\n",
            "Epoch 54/60\n",
            "120/120 [==============================] - 0s 358us/step - loss: 0.3647\n",
            "Epoch 55/60\n",
            "120/120 [==============================] - 0s 358us/step - loss: 0.3647\n",
            "Epoch 56/60\n",
            "120/120 [==============================] - 0s 358us/step - loss: 0.3647\n",
            "Epoch 57/60\n",
            "120/120 [==============================] - 0s 358us/step - loss: 0.3648\n",
            "Epoch 58/60\n",
            "120/120 [==============================] - 0s 358us/step - loss: 0.3647\n",
            "Epoch 59/60\n",
            "120/120 [==============================] - 0s 358us/step - loss: 0.3647\n",
            "Epoch 60/60\n",
            "120/120 [==============================] - 0s 358us/step - loss: 0.3646\n"
          ]
        },
        {
          "data": {
            "text/plain": [
              "<tensorflow.python.keras.callbacks.History at 0x1514c95dfc8>"
            ]
          },
          "execution_count": 179,
          "metadata": {},
          "output_type": "execute_result"
        }
      ],
      "source": [
        "nn_freq_ageph_cov.fit(data_nn_hot, # ageph is now our input\n",
        "            (counts/exposure),\n",
        "            sample_weight = exposure,\n",
        "            epochs = 60,\n",
        "            batch_size = 1024,\n",
        "            validation_split = 0,\n",
        "            verbose = 1)"
      ]
    },
    {
      "cell_type": "code",
      "execution_count": null,
      "metadata": {
        "id": "xP2A6hrnX0eW",
        "outputId": "fddf6ec4-66b3-43f6-b286-4b6ee561253f"
      },
      "outputs": [
        {
          "data": {
            "text/plain": [
              "[<matplotlib.lines.Line2D at 0x1514e3fafc8>]"
            ]
          },
          "execution_count": 180,
          "metadata": {},
          "output_type": "execute_result"
        },
        {
          "data": {
            "image/png": "[encoded data removed]",
            "text/plain": [
              "<Figure size 432x288 with 1 Axes>"
            ]
          },
          "metadata": {
            "needs_background": "light"
          },
          "output_type": "display_data"
        }
      ],
      "source": [
        "plt.plot(age, nn_freq_ageph_cov.predict(test_data_nn_1).reshape(-1))\n",
        "plt.plot(age, nn_freq_ageph_cov.predict(test_data_nn_2).reshape(-1))\n",
        "plt.plot(age, nn_freq_ageph_cov.predict(test_data_nn_3).reshape(-1))"
      ]
    },
    {
      "cell_type": "code",
      "execution_count": null,
      "metadata": {
        "id": "Rs1wqMCEX0eW",
        "outputId": "600d8bc9-4e05-4332-c916-000e1b960a5d"
      },
      "outputs": [
        {
          "data": {
            "text/html": [
              "<table class=\"simpletable\">\n",
              "<caption>Generalized Linear Model Regression Results</caption>\n",
              "<tr>\n",
              "  <th>Dep. Variable:</th>        <td>nclaims</td>     <th>  No. Observations:  </th>  <td>122423</td> \n",
              "</tr>\n",
              "<tr>\n",
              "  <th>Model:</th>                  <td>GLM</td>       <th>  Df Residuals:      </th>  <td>122419</td> \n",
              "</tr>\n",
              "<tr>\n",
              "  <th>Model Family:</th>         <td>Poisson</td>     <th>  Df Model:          </th>  <td>     3</td> \n",
              "</tr>\n",
              "<tr>\n",
              "  <th>Link Function:</th>          <td>Log</td>       <th>  Scale:             </th> <td>  1.0000</td>\n",
              "</tr>\n",
              "<tr>\n",
              "  <th>Method:</th>                <td>IRLS</td>       <th>  Log-Likelihood:    </th> <td> -47435.</td>\n",
              "</tr>\n",
              "<tr>\n",
              "  <th>Date:</th>            <td>Fri, 11 Mar 2022</td> <th>  Deviance:          </th> <td>  66626.</td>\n",
              "</tr>\n",
              "<tr>\n",
              "  <th>Time:</th>                <td>14:13:31</td>     <th>  Pearson chi2:      </th> <td>1.49e+05</td>\n",
              "</tr>\n",
              "<tr>\n",
              "  <th>No. Iterations:</th>          <td>6</td>        <th>  Pseudo R-squ. (CS):</th> <td>0.006613</td>\n",
              "</tr>\n",
              "<tr>\n",
              "  <th>Covariance Type:</th>     <td>nonrobust</td>    <th>                     </th>     <td> </td>   \n",
              "</tr>\n",
              "</table>\n",
              "<table class=\"simpletable\">\n",
              "<tr>\n",
              "         <td></td>            <th>coef</th>     <th>std err</th>      <th>z</th>      <th>P>|z|</th>  <th>[0.025</th>    <th>0.975]</th>  \n",
              "</tr>\n",
              "<tr>\n",
              "  <th>Intercept</th>       <td>   -1.2795</td> <td>    0.034</td> <td>  -38.174</td> <td> 0.000</td> <td>   -1.345</td> <td>   -1.214</td>\n",
              "</tr>\n",
              "<tr>\n",
              "  <th>coverage[T.PO]</th>  <td>   -0.0299</td> <td>    0.027</td> <td>   -1.102</td> <td> 0.270</td> <td>   -0.083</td> <td>    0.023</td>\n",
              "</tr>\n",
              "<tr>\n",
              "  <th>coverage[T.TPL]</th> <td>    0.0549</td> <td>    0.024</td> <td>    2.243</td> <td> 0.025</td> <td>    0.007</td> <td>    0.103</td>\n",
              "</tr>\n",
              "<tr>\n",
              "  <th>ageph</th>           <td>   -0.0157</td> <td>    0.001</td> <td>  -27.353</td> <td> 0.000</td> <td>   -0.017</td> <td>   -0.015</td>\n",
              "</tr>\n",
              "</table>"
            ],
            "text/plain": [
              "<class 'statsmodels.iolib.summary.Summary'>\n",
              "\"\"\"\n",
              "                 Generalized Linear Model Regression Results                  \n",
              "==============================================================================\n",
              "Dep. Variable:                nclaims   No. Observations:               122423\n",
              "Model:                            GLM   Df Residuals:                   122419\n",
              "Model Family:                 Poisson   Df Model:                            3\n",
              "Link Function:                    Log   Scale:                          1.0000\n",
              "Method:                          IRLS   Log-Likelihood:                -47435.\n",
              "Date:                Fri, 11 Mar 2022   Deviance:                       66626.\n",
              "Time:                        14:13:31   Pearson chi2:                 1.49e+05\n",
              "No. Iterations:                     6   Pseudo R-squ. (CS):           0.006613\n",
              "Covariance Type:            nonrobust                                         \n",
              "===================================================================================\n",
              "                      coef    std err          z      P>|z|      [0.025      0.975]\n",
              "-----------------------------------------------------------------------------------\n",
              "Intercept          -1.2795      0.034    -38.174      0.000      -1.345      -1.214\n",
              "coverage[T.PO]     -0.0299      0.027     -1.102      0.270      -0.083       0.023\n",
              "coverage[T.TPL]     0.0549      0.024      2.243      0.025       0.007       0.103\n",
              "ageph              -0.0157      0.001    -27.353      0.000      -0.017      -0.015\n",
              "===================================================================================\n",
              "\"\"\""
            ]
          },
          "execution_count": 181,
          "metadata": {},
          "output_type": "execute_result"
        }
      ],
      "source": [
        "# label \n",
        "glm_age_coverage = sm.formula.glm(\"nclaims ~ ageph + coverage\", \n",
        "                            data = train, \n",
        "                            offset = np.log(train.expo),\n",
        "                            family = sm.families.Poisson()).fit(); \n",
        "glm_age_coverage.summary()"
      ]
    },
    {
      "cell_type": "markdown",
      "metadata": {
        "id": "QmdXHwhGGR54"
      },
      "source": [
        "## 4.6 CANN - Combined Actuarial Neural Network <a name=\"four-six\"></a>"
      ]
    },
    {
      "cell_type": "markdown",
      "metadata": {
        "id": "LYK06Qm5J0f-"
      },
      "source": [
        "Can we combine the insides of a well understood actuarial model with the flexibility of a Neural Network: <a href='https://www.cambridge.org/core/journals/astin-bulletin-journal-of-the-iaa/article/editorial-yes-we-cann/66E8BEC373B5CCEF3BF3303D442D6B75' target='_blank'>Yes we CANN!</a>"
      ]
    },
    {
      "cell_type": "markdown",
      "metadata": {
        "id": "6VYSBErWLgi8"
      },
      "source": [
        "Using a skip connection we immediately connect the output of our GLM model with the output of the Neural Network"
      ]
    },
    {
      "cell_type": "markdown",
      "metadata": {
        "id": "x8RuVrQhJi21"
      },
      "source": [
        "<figure>\n",
        "<img src=\"https://github.com/loremarchi/hands-on-machine-learning-R-module-3-python/blob/main/imgs/skip_conn.png?raw=1\" alt=\"autoencoder_schema\" style=\"width: 300px;\"/>\n",
        "<figcaption><center>Figure taken from <a href=\"https://papers.ssrn.com/sol3/papers.cfm?abstract_id=3320525\">Schelldorfer and Wuthrich (2019)</a>.<p></p></center></figcaption>\n",
        "</figure>"
      ]
    },
    {
      "cell_type": "markdown",
      "metadata": {
        "id": "blTZBmEUL1uU"
      },
      "source": [
        "For the implementation of this model, we have to leave the sequential API as there is no longer a single path from input to output"
      ]
    },
    {
      "cell_type": "code",
      "execution_count": null,
      "metadata": {
        "id": "SY_1cHzEMEJT"
      },
      "outputs": [],
      "source": [
        "# When using the procedural API, we have to explicitely define the input layers\n",
        "# In this case, there are two input layers, one for the covariates and one for the skip connection.\n",
        "\n",
        "input_nn = tf.keras.layers.Input(shape = (1,), name = 'nn')\n",
        "input_skip = tf.keras.layers.Input(shape = (1,), name = 'skip')"
      ]
    },
    {
      "cell_type": "code",
      "execution_count": null,
      "metadata": {
        "id": "9a4DAxI7MNB8"
      },
      "outputs": [],
      "source": [
        "# Each layer is defined as a function of the previous layer in the network\n",
        "norm_nn = tf.keras.layers.BatchNormalization()(input_nn)\n",
        "dense_1 = tf.keras.layers.Dense(units = 16, activation = 'relu')(norm_nn)\n",
        "# Notice we use a linear activation function. Only after combination with the skip connection we apply the exponential activation function\n",
        "output_nn = tf.keras.layers.Dense(units = 1, activation = 'linear')(dense_1) "
      ]
    },
    {
      "cell_type": "code",
      "execution_count": null,
      "metadata": {
        "id": "sUTG4tctM4-u"
      },
      "outputs": [],
      "source": [
        "# Combine the output of the first part of the neural network with the skip connection via layer_add \n",
        "interm = tf.keras.layers.Add()([output_nn, input_skip])"
      ]
    },
    {
      "cell_type": "markdown",
      "metadata": {
        "id": "Q7PkkotuNvbT"
      },
      "source": [
        "Finally we want to apply the exponential function to the sum of output_nn and input_skip. We acthieve this by adding a dense layer with fixed weights one for both inputs and an exponential activation function. The model then computes:\n",
        "\n",
        "$$\n",
        "\\begin{align}\n",
        "output = \\exp(1 \\cdot \\texttt{output_nn} + 1 \\cdot \\texttt{input_skip})\n",
        "\\end{align}\n",
        "$$\n",
        "\n"
      ]
    },
    {
      "cell_type": "code",
      "execution_count": null,
      "metadata": {
        "id": "hYS5jbujNIJT"
      },
      "outputs": [],
      "source": [
        "init = tf.constant_initializer(np.ones((1,1)))\n",
        "output = tf.keras.layers.Dense(units = 1, \n",
        "                               activation = 'exponential', \n",
        "                               trainable = False,\n",
        "                               kernel_initializer = init,\n",
        "                               name = 'output')(interm)"
      ]
    },
    {
      "cell_type": "code",
      "execution_count": null,
      "metadata": {
        "id": "h64mZJYgOl36"
      },
      "outputs": [],
      "source": [
        "# Finally we compile the full model\n",
        "cann = tf.keras.models.Model(inputs = [input_nn, input_skip], outputs = output)\n",
        "cann.compile(optimizer = 'RMSprop', loss = 'poisson', metrics = [tf.keras.metrics.MeanSquaredError()])"
      ]
    },
    {
      "cell_type": "markdown",
      "metadata": {
        "id": "6oQBcBRPPLUh"
      },
      "source": [
        "Tensorflow is endowed with a specific utility to visualize the structure of the network. We can indeed see the skip connection via layer_add:"
      ]
    },
    {
      "cell_type": "code",
      "execution_count": null,
      "metadata": {
        "colab": {
          "base_uri": "https://localhost:8080/"
        },
        "id": "z8bYr6KBO44q",
        "outputId": "40c847bf-6f32-4109-b38e-56e8b07f6234"
      },
      "outputs": [
        {
          "output_type": "execute_result",
          "data": {
            "image/png": "[encoded data removed]",
            "text/plain": [
              "<IPython.core.display.Image object>"
            ]
          },
          "metadata": {},
          "execution_count": 242
        }
      ],
      "source": [
        "# model structure\n",
        "tf.keras.utils.plot_model(model=cann, show_shapes=True)"
      ]
    },
    {
      "cell_type": "code",
      "execution_count": null,
      "metadata": {
        "id": "w4o4Ca9OJi22"
      },
      "outputs": [],
      "source": [
        "skip_glm = glm_age_binned.predict(linear = True)"
      ]
    },
    {
      "cell_type": "markdown",
      "metadata": {
        "id": "NzincQ1XJi22"
      },
      "source": [
        "Collect the CANN input data in a named list:"
      ]
    },
    {
      "cell_type": "code",
      "execution_count": null,
      "metadata": {
        "id": "PhG9oIiuJi23"
      },
      "outputs": [],
      "source": [
        "cann_input = {'nn':np.array(train['ageph']), 'skip':np.array(skip_glm)}"
      ]
    },
    {
      "cell_type": "markdown",
      "metadata": {
        "id": "AOKmpJHxJi24"
      },
      "source": [
        "Fit the CANN like we have seen before:"
      ]
    },
    {
      "cell_type": "code",
      "execution_count": null,
      "metadata": {
        "colab": {
          "base_uri": "https://localhost:8080/"
        },
        "id": "O0YB6r3JJi24",
        "outputId": "14978209-40b7-4999-cb22-f12f259308d4"
      },
      "outputs": [
        {
          "output_type": "stream",
          "name": "stdout",
          "text": [
            "Epoch 1/4\n",
            "120/120 [==============================] - 2s 2ms/step - loss: 0.3787 - mean_squared_error: 0.1339\n",
            "Epoch 2/4\n",
            "120/120 [==============================] - 0s 3ms/step - loss: 0.3776 - mean_squared_error: 0.1335\n",
            "Epoch 3/4\n",
            "120/120 [==============================] - 0s 2ms/step - loss: 0.3776 - mean_squared_error: 0.1335\n",
            "Epoch 4/4\n",
            "120/120 [==============================] - 0s 2ms/step - loss: 0.3775 - mean_squared_error: 0.1335\n"
          ]
        },
        {
          "output_type": "execute_result",
          "data": {
            "text/plain": [
              "<keras.callbacks.History at 0x7f4bf08a5640>"
            ]
          },
          "metadata": {},
          "execution_count": 245
        }
      ],
      "source": [
        "# we no longer include exposure as exposure is included via the skip connection\n",
        "cann.fit(x = cann_input,\n",
        "         y = counts,\n",
        "         epochs = 4,\n",
        "         batch_size = 1024,\n",
        "         validation_split = 0,\n",
        "         verbose = 1)"
      ]
    },
    {
      "cell_type": "code",
      "execution_count": null,
      "metadata": {
        "id": "CyuBgBlHJi24",
        "colab": {
          "base_uri": "https://localhost:8080/"
        },
        "outputId": "460b47f9-80e8-4b16-9c60-7896d75d0995"
      },
      "outputs": [
        {
          "output_type": "stream",
          "name": "stdout",
          "text": [
            "3/3 [==============================] - 0s 3ms/step\n"
          ]
        }
      ],
      "source": [
        "age = np.array(list(range(18,96)))\n",
        "skip_zeros = np.zeros(age.shape[0])\n",
        "age_skip_0 = pd.DataFrame({'ageph':age,\n",
        "                           'skip':skip_zeros})\n",
        "age_skip_0['cann'] = cann.predict(x={'nn':tf.cast(age_skip_0['ageph'], dtype = tf.float32),\n",
        "                                     'skip':tf.cast(age_skip_0['skip'], dtype = tf.float32)})"
      ]
    },
    {
      "cell_type": "code",
      "execution_count": null,
      "metadata": {
        "colab": {
          "base_uri": "https://localhost:8080/"
        },
        "id": "SJFCtMtAJi25",
        "outputId": "34e7bb06-f75d-498c-90a7-8973e31138fd"
      },
      "outputs": [
        {
          "output_type": "display_data",
          "data": {
            "text/plain": [
              "<Figure size 432x288 with 1 Axes>"
            ],
            "image/png": "[encoded data removed]"
          },
          "metadata": {
            "needs_background": "light"
          }
        }
      ],
      "source": [
        "plt.plot(age_skip_0.ageph, age_skip_0.cann, label = \"NN Adjustment\")\n",
        "plt.xlabel('age')\n",
        "plt.ylabel('effect')\n",
        "plt.legend()\n",
        "plt.show()"
      ]
    },
    {
      "cell_type": "code",
      "execution_count": null,
      "metadata": {
        "colab": {
          "base_uri": "https://localhost:8080/"
        },
        "id": "AaS0u2wbJi25",
        "outputId": "c3166543-c510-452b-eb75-01f65de34e85"
      },
      "outputs": [
        {
          "output_type": "stream",
          "name": "stdout",
          "text": [
            "3/3 [==============================] - 0s 4ms/step\n"
          ]
        },
        {
          "output_type": "execute_result",
          "data": {
            "text/plain": [
              "   ageph      skip      cann\n",
              "0     18 -1.214386  0.302694\n",
              "1     19 -1.214386  0.301967\n",
              "2     20 -1.214386  0.301242\n",
              "3     21 -1.214386  0.300519\n",
              "4     22 -1.214386  0.299797"
            ],
            "text/html": [
              "\n",
              "  <div id=\"df-f5d91303-0007-4e9a-8567-32fa7ed1b356\">\n",
              "    <div class=\"colab-df-container\">\n",
              "      <div>\n",
              "<style scoped>\n",
              "    .dataframe tbody tr th:only-of-type {\n",
              "        vertical-align: middle;\n",
              "    }\n",
              "\n",
              "    .dataframe tbody tr th {\n",
              "        vertical-align: top;\n",
              "    }\n",
              "\n",
              "    .dataframe thead th {\n",
              "        text-align: right;\n",
              "    }\n",
              "</style>\n",
              "<table border=\"1\" class=\"dataframe\">\n",
              "  <thead>\n",
              "    <tr style=\"text-align: right;\">\n",
              "      <th></th>\n",
              "      <th>ageph</th>\n",
              "      <th>skip</th>\n",
              "      <th>cann</th>\n",
              "    </tr>\n",
              "  </thead>\n",
              "  <tbody>\n",
              "    <tr>\n",
              "      <th>0</th>\n",
              "      <td>18</td>\n",
              "      <td>-1.214386</td>\n",
              "      <td>0.302694</td>\n",
              "    </tr>\n",
              "    <tr>\n",
              "      <th>1</th>\n",
              "      <td>19</td>\n",
              "      <td>-1.214386</td>\n",
              "      <td>0.301967</td>\n",
              "    </tr>\n",
              "    <tr>\n",
              "      <th>2</th>\n",
              "      <td>20</td>\n",
              "      <td>-1.214386</td>\n",
              "      <td>0.301242</td>\n",
              "    </tr>\n",
              "    <tr>\n",
              "      <th>3</th>\n",
              "      <td>21</td>\n",
              "      <td>-1.214386</td>\n",
              "      <td>0.300519</td>\n",
              "    </tr>\n",
              "    <tr>\n",
              "      <th>4</th>\n",
              "      <td>22</td>\n",
              "      <td>-1.214386</td>\n",
              "      <td>0.299797</td>\n",
              "    </tr>\n",
              "  </tbody>\n",
              "</table>\n",
              "</div>\n",
              "      <button class=\"colab-df-convert\" onclick=\"convertToInteractive('df-f5d91303-0007-4e9a-8567-32fa7ed1b356')\"\n",
              "              title=\"Convert this dataframe to an interactive table.\"\n",
              "              style=\"display:none;\">\n",
              "        \n",
              "  <svg xmlns=\"http://www.w3.org/2000/svg\" height=\"24px\"viewBox=\"0 0 24 24\"\n",
              "       width=\"24px\">\n",
              "    <path d=\"M0 0h24v24H0V0z\" fill=\"none\"/>\n",
              "    <path d=\"M18.56 5.44l.94 2.06.94-2.06 2.06-.94-2.06-.94-.94-2.06-.94 2.06-2.06.94zm-11 1L8.5 8.5l.94-2.06 2.06-.94-2.06-.94L8.5 2.5l-.94 2.06-2.06.94zm10 10l.94 2.06.94-2.06 2.06-.94-2.06-.94-.94-2.06-.94 2.06-2.06.94z\"/><path d=\"M17.41 7.96l-1.37-1.37c-.4-.4-.92-.59-1.43-.59-.52 0-1.04.2-1.43.59L10.3 9.45l-7.72 7.72c-.78.78-.78 2.05 0 2.83L4 21.41c.39.39.9.59 1.41.59.51 0 1.02-.2 1.41-.59l7.78-7.78 2.81-2.81c.8-.78.8-2.07 0-2.86zM5.41 20L4 18.59l7.72-7.72 1.47 1.35L5.41 20z\"/>\n",
              "  </svg>\n",
              "      </button>\n",
              "      \n",
              "  <style>\n",
              "    .colab-df-container {\n",
              "      display:flex;\n",
              "      flex-wrap:wrap;\n",
              "      gap: 12px;\n",
              "    }\n",
              "\n",
              "    .colab-df-convert {\n",
              "      background-color: #E8F0FE;\n",
              "      border: none;\n",
              "      border-radius: 50%;\n",
              "      cursor: pointer;\n",
              "      display: none;\n",
              "      fill: #1967D2;\n",
              "      height: 32px;\n",
              "      padding: 0 0 0 0;\n",
              "      width: 32px;\n",
              "    }\n",
              "\n",
              "    .colab-df-convert:hover {\n",
              "      background-color: #E2EBFA;\n",
              "      box-shadow: 0px 1px 2px rgba(60, 64, 67, 0.3), 0px 1px 3px 1px rgba(60, 64, 67, 0.15);\n",
              "      fill: #174EA6;\n",
              "    }\n",
              "\n",
              "    [theme=dark] .colab-df-convert {\n",
              "      background-color: #3B4455;\n",
              "      fill: #D2E3FC;\n",
              "    }\n",
              "\n",
              "    [theme=dark] .colab-df-convert:hover {\n",
              "      background-color: #434B5C;\n",
              "      box-shadow: 0px 1px 3px 1px rgba(0, 0, 0, 0.15);\n",
              "      filter: drop-shadow(0px 1px 2px rgba(0, 0, 0, 0.3));\n",
              "      fill: #FFFFFF;\n",
              "    }\n",
              "  </style>\n",
              "\n",
              "      <script>\n",
              "        const buttonEl =\n",
              "          document.querySelector('#df-f5d91303-0007-4e9a-8567-32fa7ed1b356 button.colab-df-convert');\n",
              "        buttonEl.style.display =\n",
              "          google.colab.kernel.accessAllowed ? 'block' : 'none';\n",
              "\n",
              "        async function convertToInteractive(key) {\n",
              "          const element = document.querySelector('#df-f5d91303-0007-4e9a-8567-32fa7ed1b356');\n",
              "          const dataTable =\n",
              "            await google.colab.kernel.invokeFunction('convertToInteractive',\n",
              "                                                     [key], {});\n",
              "          if (!dataTable) return;\n",
              "\n",
              "          const docLinkHtml = 'Like what you see? Visit the ' +\n",
              "            '<a target=\"_blank\" href=https://colab.research.google.com/notebooks/data_table.ipynb>data table notebook</a>'\n",
              "            + ' to learn more about interactive tables.';\n",
              "          element.innerHTML = '';\n",
              "          dataTable['output_type'] = 'display_data';\n",
              "          await google.colab.output.renderOutput(dataTable, element);\n",
              "          const docLink = document.createElement('div');\n",
              "          docLink.innerHTML = docLinkHtml;\n",
              "          element.appendChild(docLink);\n",
              "        }\n",
              "      </script>\n",
              "    </div>\n",
              "  </div>\n",
              "  "
            ]
          },
          "metadata": {},
          "execution_count": 248
        }
      ],
      "source": [
        "df = pd.DataFrame({'ageph':np.array(range(18,96)),\n",
        "                   'skip': np.log(glm_pred)})\n",
        "\n",
        "df['cann'] = cann.predict(x={'nn':tf.cast(df.ageph, dtype = tf.float32), \n",
        "                             'skip':tf.cast(df.skip, dtype = tf.float32)}); df.head()"
      ]
    },
    {
      "cell_type": "code",
      "execution_count": null,
      "metadata": {
        "colab": {
          "base_uri": "https://localhost:8080/"
        },
        "id": "DKk1iYulJi25",
        "outputId": "ef09433e-ce25-47fe-ec29-47427678387e"
      },
      "outputs": [
        {
          "output_type": "display_data",
          "data": {
            "text/plain": [
              "<Figure size 432x288 with 1 Axes>"
            ],
            "image/png": "[encoded data removed]"
          },
          "metadata": {
            "needs_background": "light"
          }
        }
      ],
      "source": [
        "# plotting\n",
        "plt.plot(age, np.exp(df.skip), label = \"GLM\") # note that we transform the data via np.exp\n",
        "plt.plot(age, df.cann, label = \"CANN\")\n",
        "plt.xlabel('age')\n",
        "plt.ylabel('fitted_effect')\n",
        "plt.legend()\n",
        "plt.show()"
      ]
    },
    {
      "cell_type": "markdown",
      "source": [
        "# Chapter 5 - More types of neural networks <a name=\"five\"></a>"
      ],
      "metadata": {
        "id": "h4JOgH180xRd"
      }
    },
    {
      "cell_type": "markdown",
      "source": [
        "## 5.1 Convolutional neural networks <a name=\"five-one\"></a>"
      ],
      "metadata": {
        "id": "LzgLy8IF6UE5"
      }
    },
    {
      "cell_type": "markdown",
      "source": [
        "Format the data such that it has the correct dimensions"
      ],
      "metadata": {
        "id": "YlTBS4iC5cVm"
      }
    },
    {
      "cell_type": "code",
      "source": [
        "input_train = tf.expand_dims(x_train, axis = -1)\n",
        "input_test = tf.expand_dims(x_test, axis = -1)"
      ],
      "metadata": {
        "id": "MkWGvA9C2T_V"
      },
      "execution_count": null,
      "outputs": []
    },
    {
      "cell_type": "code",
      "source": [
        "output_train = keras.utils.to_categorical(y_train)\n",
        "output_test = keras.utils.to_categorical(y_test)"
      ],
      "metadata": {
        "id": "3OCPjoIr33zW"
      },
      "execution_count": null,
      "outputs": []
    },
    {
      "cell_type": "markdown",
      "source": [
        "Define the model, we use one convolutional layer after which we flatten the result and connect it to the output nodes using a dense layer."
      ],
      "metadata": {
        "id": "jfEgRoqR5k7W"
      }
    },
    {
      "cell_type": "code",
      "source": [
        "model_conv = keras.models.Sequential([\n",
        "    keras.layers.Conv2D(\n",
        "        filters = 8,\n",
        "        kernel_size = (3, 3),\n",
        "        strides = (1, 1),\n",
        "        input_shape = (28, 28, 1)\n",
        "    ),\n",
        "    keras.layers.MaxPool2D(\n",
        "        pool_size = (2, 2),\n",
        "        strides = (2, 2)\n",
        "    ),\n",
        "    keras.layers.Flatten(),\n",
        "    keras.layers.Dense(units = 10, activation = 'softmax')\n",
        "  ])\n",
        "\n",
        "model_conv.compile(\n",
        "    loss = 'categorical_crossentropy', \n",
        "    optimizer = keras.optimizers.RMSprop(), \n",
        "    metrics = ['accuracy']\n",
        "  )\n",
        "\n",
        "model_conv.fit(\n",
        "    x = input_train,\n",
        "    y = output_train,\n",
        "    epochs = 10,\n",
        "    batch_size = 1024,\n",
        "    validation_split = 0.2,\n",
        "    verbose = 1\n",
        "  )"
      ],
      "metadata": {
        "colab": {
          "base_uri": "https://localhost:8080/"
        },
        "id": "zFDZAyzX1MRd",
        "outputId": "ffb5bbd6-ec04-452a-f8f8-2fd2df104a5b"
      },
      "execution_count": null,
      "outputs": [
        {
          "output_type": "stream",
          "name": "stdout",
          "text": [
            "Epoch 1/10\n",
            "47/47 [==============================] - 14s 286ms/step - loss: 8.4282 - accuracy: 0.7024 - val_loss: 2.7186 - val_accuracy: 0.8453\n",
            "Epoch 2/10\n",
            "47/47 [==============================] - 11s 244ms/step - loss: 1.9492 - accuracy: 0.8733 - val_loss: 1.3905 - val_accuracy: 0.8984\n",
            "Epoch 3/10\n",
            "47/47 [==============================] - 11s 241ms/step - loss: 1.1568 - accuracy: 0.9045 - val_loss: 0.8589 - val_accuracy: 0.9302\n",
            "Epoch 4/10\n",
            "47/47 [==============================] - 12s 266ms/step - loss: 0.7718 - accuracy: 0.9243 - val_loss: 0.8153 - val_accuracy: 0.9173\n",
            "Epoch 5/10\n",
            "47/47 [==============================] - 19s 411ms/step - loss: 0.5679 - accuracy: 0.9348 - val_loss: 0.5879 - val_accuracy: 0.9379\n",
            "Epoch 6/10\n",
            "47/47 [==============================] - 12s 252ms/step - loss: 0.4406 - accuracy: 0.9433 - val_loss: 0.5520 - val_accuracy: 0.9390\n",
            "Epoch 7/10\n",
            "47/47 [==============================] - 11s 243ms/step - loss: 0.3703 - accuracy: 0.9486 - val_loss: 0.4385 - val_accuracy: 0.9486\n",
            "Epoch 8/10\n",
            "47/47 [==============================] - 11s 238ms/step - loss: 0.3051 - accuracy: 0.9542 - val_loss: 0.4059 - val_accuracy: 0.9496\n",
            "Epoch 9/10\n",
            "47/47 [==============================] - 12s 265ms/step - loss: 0.2665 - accuracy: 0.9565 - val_loss: 0.4268 - val_accuracy: 0.9445\n",
            "Epoch 10/10\n",
            "47/47 [==============================] - 18s 387ms/step - loss: 0.2355 - accuracy: 0.9599 - val_loss: 0.3791 - val_accuracy: 0.9492\n"
          ]
        },
        {
          "output_type": "execute_result",
          "data": {
            "text/plain": [
              "<keras.callbacks.History at 0x7f4c81b306d0>"
            ]
          },
          "metadata": {},
          "execution_count": 278
        }
      ]
    },
    {
      "cell_type": "markdown",
      "source": [
        "The trained model has a lower loss on the training data set than the artificial neural network trained earlier. Performance on the test set is similar to the performance on the validation set."
      ],
      "metadata": {
        "id": "1uMZqAAJ5xs1"
      }
    },
    {
      "cell_type": "code",
      "source": [
        "model_conv.evaluate(input_test, output_test, verbose = 0)"
      ],
      "metadata": {
        "colab": {
          "base_uri": "https://localhost:8080/"
        },
        "id": "muur18tz4HdN",
        "outputId": "b35fe740-28f0-4b9c-eb2c-ee7b017f1940"
      },
      "execution_count": null,
      "outputs": [
        {
          "output_type": "execute_result",
          "data": {
            "text/plain": [
              "[0.36446139216423035, 0.9503999948501587]"
            ]
          },
          "metadata": {},
          "execution_count": 282
        }
      ]
    },
    {
      "cell_type": "markdown",
      "source": [
        "Visualize some of the kernels"
      ],
      "metadata": {
        "id": "_swoEsZL6ES1"
      }
    },
    {
      "cell_type": "code",
      "source": [
        "filters = model_conv.layers[0].get_weights()[0]\n",
        "filters.shape"
      ],
      "metadata": {
        "colab": {
          "base_uri": "https://localhost:8080/"
        },
        "id": "LckhEYqW4TPl",
        "outputId": "8d4b1c57-f99a-47f9-9818-a5b311afa735"
      },
      "execution_count": null,
      "outputs": [
        {
          "output_type": "execute_result",
          "data": {
            "text/plain": [
              "(3, 3, 1, 8)"
            ]
          },
          "metadata": {},
          "execution_count": 304
        }
      ]
    },
    {
      "cell_type": "code",
      "source": [
        "visualize_weight(np.reshape(filters[:,:,:,0], (3, 3)))"
      ],
      "metadata": {
        "colab": {
          "base_uri": "https://localhost:8080/",
          "height": 269
        },
        "id": "oG856PE04bX1",
        "outputId": "3b044f14-9da5-44e1-a966-2cd3faf519e7"
      },
      "execution_count": null,
      "outputs": [
        {
          "output_type": "display_data",
          "data": {
            "text/plain": [
              "<Figure size 432x288 with 1 Axes>"
            ],
            "image/png": "[encoded data removed]"
          },
          "metadata": {
            "needs_background": "light"
          }
        }
      ]
    },
    {
      "cell_type": "code",
      "source": [
        "visualize_weight(np.reshape(filters[:,:,:,5], (3, 3)))"
      ],
      "metadata": {
        "colab": {
          "base_uri": "https://localhost:8080/",
          "height": 269
        },
        "id": "AcyZEPvF4x8n",
        "outputId": "b3aefe28-a43d-4c3c-b46d-251a8dbdcf2f"
      },
      "execution_count": null,
      "outputs": [
        {
          "output_type": "display_data",
          "data": {
            "text/plain": [
              "<Figure size 432x288 with 1 Axes>"
            ],
            "image/png": "[encoded data removed]"
          },
          "metadata": {
            "needs_background": "light"
          }
        }
      ]
    },
    {
      "cell_type": "markdown",
      "source": [
        "## 5.2 Auto encoders <a name=\"five-two\"></a>"
      ],
      "metadata": {
        "id": "FIbQlASw_KNk"
      }
    },
    {
      "cell_type": "markdown",
      "source": [
        "Divide input data by 255 to obtain values in (0, 1) since the activation function we will use in the final layer will be restricted to the domain (0, 1)"
      ],
      "metadata": {
        "id": "MZM6dRAcDYSW"
      }
    },
    {
      "cell_type": "code",
      "source": [
        "input_train_flatten = tf.reshape(x_train, [len(x_train), 28*28]) / 255\n",
        "input_train_flatten.shape"
      ],
      "metadata": {
        "colab": {
          "base_uri": "https://localhost:8080/"
        },
        "id": "NBcLVlvkBZi9",
        "outputId": "0c85bfa8-47b1-4d63-d01b-cdf3061c5767"
      },
      "execution_count": null,
      "outputs": [
        {
          "output_type": "execute_result",
          "data": {
            "text/plain": [
              "TensorShape([60000, 784])"
            ]
          },
          "metadata": {},
          "execution_count": 333
        }
      ]
    },
    {
      "cell_type": "code",
      "source": [
        "# encode the input\n",
        "input_encoder = tf.keras.layers.Input(shape = (784,))\n",
        "layer1 = keras.layers.Dense(units = 128, activation = 'sigmoid', input_shape = [784])(input_encoder)\n",
        "encoder = keras.layers.Dense(units = 32, activation = 'sigmoid')(layer1)\n",
        "\n",
        "# decode the input\n",
        "layer3 = keras.layers.BatchNormalization()(encoder)\n",
        "layer4 = keras.layers.Dense(units = 128, activation = 'sigmoid')(layer3)\n",
        "decoded = keras.layers.Dense(units = 784, activation = 'sigmoid')(layer4)\n",
        "\n",
        "model = keras.models.Model(inputs = input_encoder, outputs = decoded)\n",
        "\n",
        "model.compile(\n",
        "    loss = 'binary_crossentropy',\n",
        "    optimizer = keras.optimizers.RMSprop(), \n",
        "    metrics = ['mse']\n",
        ")\n",
        "\n",
        "model.fit(\n",
        "    x = input_train_flatten,\n",
        "    y = input_train_flatten,\n",
        "    epochs = 10,\n",
        "    batch_size = 1024,\n",
        "    validation_split = 0.2,\n",
        "    verbose = 1\n",
        "  )\n"
      ],
      "metadata": {
        "colab": {
          "base_uri": "https://localhost:8080/"
        },
        "id": "oa7I0iWC_RoM",
        "outputId": "53a2ec55-6810-44cb-d2db-f2eb7782682b"
      },
      "execution_count": null,
      "outputs": [
        {
          "output_type": "stream",
          "name": "stdout",
          "text": [
            "Epoch 1/10\n",
            "47/47 [==============================] - 4s 61ms/step - loss: 0.3335 - mse: 0.0852 - val_loss: 0.2672 - val_mse: 0.0671\n",
            "Epoch 2/10\n",
            "47/47 [==============================] - 4s 85ms/step - loss: 0.2650 - mse: 0.0675 - val_loss: 0.2624 - val_mse: 0.0669\n",
            "Epoch 3/10\n",
            "47/47 [==============================] - 3s 56ms/step - loss: 0.2564 - mse: 0.0653 - val_loss: 0.2466 - val_mse: 0.0620\n",
            "Epoch 4/10\n",
            "47/47 [==============================] - 3s 56ms/step - loss: 0.2426 - mse: 0.0610 - val_loss: 0.2352 - val_mse: 0.0583\n",
            "Epoch 5/10\n",
            "47/47 [==============================] - 3s 56ms/step - loss: 0.2245 - mse: 0.0546 - val_loss: 0.2125 - val_mse: 0.0502\n",
            "Epoch 6/10\n",
            "47/47 [==============================] - 3s 74ms/step - loss: 0.2052 - mse: 0.0480 - val_loss: 0.1977 - val_mse: 0.0454\n",
            "Epoch 7/10\n",
            "47/47 [==============================] - 3s 65ms/step - loss: 0.1931 - mse: 0.0439 - val_loss: 0.1878 - val_mse: 0.0418\n",
            "Epoch 8/10\n",
            "47/47 [==============================] - 3s 58ms/step - loss: 0.1847 - mse: 0.0411 - val_loss: 0.1817 - val_mse: 0.0401\n",
            "Epoch 9/10\n",
            "47/47 [==============================] - 3s 55ms/step - loss: 0.1796 - mse: 0.0394 - val_loss: 0.1773 - val_mse: 0.0384\n",
            "Epoch 10/10\n",
            "47/47 [==============================] - 3s 56ms/step - loss: 0.1753 - mse: 0.0380 - val_loss: 0.1728 - val_mse: 0.0370\n"
          ]
        },
        {
          "output_type": "execute_result",
          "data": {
            "text/plain": [
              "<keras.callbacks.History at 0x7f4bf060d100>"
            ]
          },
          "metadata": {},
          "execution_count": 334
        }
      ]
    },
    {
      "cell_type": "markdown",
      "source": [
        "Test the autoencoder by feeding it input images"
      ],
      "metadata": {
        "id": "MsQJXvPsCHtt"
      }
    },
    {
      "cell_type": "code",
      "source": [
        "result = model.predict(input_train_flatten)"
      ],
      "metadata": {
        "colab": {
          "base_uri": "https://localhost:8080/"
        },
        "id": "2mJVgn8DAyyd",
        "outputId": "35532e6f-96b0-4a29-e204-fe919de14cd3"
      },
      "execution_count": null,
      "outputs": [
        {
          "output_type": "stream",
          "name": "stdout",
          "text": [
            "1875/1875 [==============================] - 5s 2ms/step\n"
          ]
        }
      ]
    },
    {
      "cell_type": "code",
      "source": [
        "plt.imshow(np.reshape(input_train_flatten[1,:], (28, 28)), cmap='gray')"
      ],
      "metadata": {
        "colab": {
          "base_uri": "https://localhost:8080/",
          "height": 282
        },
        "id": "ftgiLONpCU2t",
        "outputId": "508c86b3-1bed-4fa0-8676-e6b6b13fe931"
      },
      "execution_count": null,
      "outputs": [
        {
          "output_type": "execute_result",
          "data": {
            "text/plain": [
              "<matplotlib.image.AxesImage at 0x7f4bf0a92fa0>"
            ]
          },
          "metadata": {},
          "execution_count": 340
        },
        {
          "output_type": "display_data",
          "data": {
            "text/plain": [
              "<Figure size 432x288 with 1 Axes>"
            ],
            "image/png": "[encoded data removed]"
          },
          "metadata": {
            "needs_background": "light"
          }
        }
      ]
    },
    {
      "cell_type": "code",
      "source": [
        "plt.imshow(np.reshape(result[1,:], (28, 28)), cmap='gray')"
      ],
      "metadata": {
        "colab": {
          "base_uri": "https://localhost:8080/",
          "height": 282
        },
        "id": "AkGMuMuICg5U",
        "outputId": "b76d830e-3c6c-4858-d1d9-9e81cea962cf"
      },
      "execution_count": null,
      "outputs": [
        {
          "output_type": "execute_result",
          "data": {
            "text/plain": [
              "<matplotlib.image.AxesImage at 0x7f4bf08ca910>"
            ]
          },
          "metadata": {},
          "execution_count": 339
        },
        {
          "output_type": "display_data",
          "data": {
            "text/plain": [
              "<Figure size 432x288 with 1 Axes>"
            ],
            "image/png": "[encoded data removed]"
          },
          "metadata": {
            "needs_background": "light"
          }
        }
      ]
    },
    {
      "cell_type": "markdown",
      "source": [
        "Test the autoencoder by feeding it random noise"
      ],
      "metadata": {
        "id": "Gm-4pTP5D8wd"
      }
    },
    {
      "cell_type": "code",
      "source": [
        "noise = np.floor(np.random.rand(1, 28*28) * 256)\n",
        "plt.imshow(np.reshape(model.predict(noise), (28, 28)), cmap='gray')"
      ],
      "metadata": {
        "colab": {
          "base_uri": "https://localhost:8080/",
          "height": 300
        },
        "id": "QnOkTHSFECD8",
        "outputId": "ce0d2333-8a25-4666-d2b6-e4005c6c0039"
      },
      "execution_count": null,
      "outputs": [
        {
          "output_type": "stream",
          "name": "stdout",
          "text": [
            "1/1 [==============================] - 0s 90ms/step\n"
          ]
        },
        {
          "output_type": "execute_result",
          "data": {
            "text/plain": [
              "<matplotlib.image.AxesImage at 0x7f4bd768cdf0>"
            ]
          },
          "metadata": {},
          "execution_count": 343
        },
        {
          "output_type": "display_data",
          "data": {
            "text/plain": [
              "<Figure size 432x288 with 1 Axes>"
            ],
            "image/png": "[encoded data removed]"
          },
          "metadata": {
            "needs_background": "light"
          }
        }
      ]
    },
    {
      "cell_type": "markdown",
      "source": [
        "## 5.3 Tuning a neural network <a name=\"five-three\"></a>\n",
        "In this section we tune some hyperparameters when fitting our autoencoder. The chosen hyperparameters are:\n",
        "* neurons_layer1: The number of nodes in the first (and last) layer of the autoencoder\n",
        "* activation: The activation function used\n",
        "* normalize: Should a batch normalization layer be added in the middle of the model\n",
        "* batch_size: Batch size used when training the model\n",
        "\n",
        "These are just some of the potential hyperparameters. Many more can be chosen, but the more options we choose, the longer hyperparameter tuning will take."
      ],
      "metadata": {
        "id": "uZnUdAJTKYtg"
      }
    },
    {
      "cell_type": "markdown",
      "source": [
        "As hyperparameter combinations grow fast, we don't want to test every combination. We are using `Optimzer` from scikit-optimize (skopt) to  efficiently scan the tuning grid."
      ],
      "metadata": {
        "id": "4S-4e96tKf68"
      }
    },
    {
      "cell_type": "code",
      "source": [
        "!pip install scikit-optimize"
      ],
      "metadata": {
        "id": "Z531Y3VKKYfw"
      },
      "execution_count": null,
      "outputs": []
    },
    {
      "cell_type": "code",
      "source": [
        "from skopt import Optimizer\n",
        "from skopt.utils import dimensions_aslist\n",
        "from skopt.space.space import Real, Categorical, Integer\n",
        "from sklearn.model_selection import cross_val_score\n",
        "from sklearn.model_selection import KFold\n",
        "from keras.wrappers.scikit_learn import KerasClassifier"
      ],
      "metadata": {
        "id": "rAZ869XQKYcC"
      },
      "execution_count": null,
      "outputs": []
    },
    {
      "cell_type": "markdown",
      "source": [
        "We define a grid of values over which we will tune. In `skopt` we can define the type of each tuning parameter `Integer`, `Real`, `Categorical`. "
      ],
      "metadata": {
        "id": "hEFRe2jKKkIf"
      }
    },
    {
      "cell_type": "code",
      "source": [
        "# First we define a grid of values over which we will tune\n",
        "param_grid = {\n",
        "    'neurons_layer1': Integer(256, 512),\n",
        "    'activation': Categorical(['sigmoid', 'relu', 'tanh']),\n",
        "    'normalize': Categorical(['yes', 'no']),\n",
        "    'batch_size': Integer(128, 2048, \"log-uniform\")\n",
        "}"
      ],
      "metadata": {
        "id": "_TA68XfbKloV"
      },
      "execution_count": null,
      "outputs": []
    },
    {
      "cell_type": "code",
      "source": [
        "# And a function that we want to optimize\n",
        "def fit_autoencoder(param):\n",
        "\n",
        "  # define, compile and fit the model on a given train and test data set\n",
        "  def score_model(train, test):\n",
        "    model = keras.models.Sequential([\n",
        "          keras.layers.Dense(units = param['neurons_layer1'], activation = param['activation'], input_shape = [784]),\n",
        "          keras.layers.Dense(units = 32, activation = param['activation'])\n",
        "    ])\n",
        "\n",
        "    if param['normalize'] == 'yes':\n",
        "      model.add(keras.layers.BatchNormalization())\n",
        "\n",
        "    model.add(keras.layers.Dense(units = param['neurons_layer1'], activation = param['activation']))\n",
        "    model.add(keras.layers.Dense(units = 784, activation = param['activation']))\n",
        "\n",
        "    model.compile(\n",
        "        loss = 'binary_crossentropy',\n",
        "        optimizer = keras.optimizers.RMSprop()\n",
        "    )\n",
        "\n",
        "    model.fit(\n",
        "      x = train,\n",
        "      y = train,\n",
        "      epochs = 5,\n",
        "      batch_size = param['batch_size'],\n",
        "      validation_split = 0,\n",
        "      verbose = 0\n",
        "    )\n",
        "\n",
        "    return (model.evaluate(test, test))\n",
        "\n",
        "  # Split the data into folds for cross-validation. We choose 2 folds here to speed up the demonstration. \n",
        "  # In an actual fitting procedure, it is better to choose a larger number of folds (e.g. 5).\n",
        "  # We specify the random_state such that for each parameter combination the data is split into the same folds.\n",
        "  folds = KFold(n_splits=2, shuffle=True, random_state=1).split(input_train_flatten, input_train_flatten)\n",
        "  \n",
        "  # compute the score on each fold\n",
        "  scores = []\n",
        "  for fold in folds:\n",
        "\n",
        "    scores.append(\n",
        "        score_model(\n",
        "            train = np.array(input_train_flatten)[fold[0],:],\n",
        "            test = np.array(input_train_flatten)[fold[0],:]\n",
        "            )        \n",
        "    )\n",
        "\n",
        "  # combine the scores in a single metric\n",
        "  return np.sum(scores)"
      ],
      "metadata": {
        "id": "U82RTFYiKmFN"
      },
      "execution_count": null,
      "outputs": []
    },
    {
      "cell_type": "code",
      "source": [
        "# test the function with a single param combination\n",
        "param = {\n",
        "    'neurons_layer1': 256,\n",
        "    'activation': 'tanh',\n",
        "    'normalize': 'yes',\n",
        "    'batch_size': 2048\n",
        "}\n",
        "fit_autoencoder(param)"
      ],
      "metadata": {
        "id": "8uCot9TTKpCN"
      },
      "execution_count": null,
      "outputs": []
    },
    {
      "cell_type": "code",
      "source": [
        "# create an optimizer; This will sugest new parameters to test based on the \n",
        "# results found for previous parameters\n",
        "optimizer = Optimizer(\n",
        "    dimensions = dimensions_aslist(param_grid),\n",
        "    random_state = 1,\n",
        "    base_estimator = 'gp',\n",
        "    n_initial_points = 3\n",
        ")"
      ],
      "metadata": {
        "id": "Ok5CjeIKKrDS"
      },
      "execution_count": null,
      "outputs": []
    },
    {
      "cell_type": "code",
      "source": [
        "# We test 5 parameter combinations as fitting these models takes a lot of time\n",
        "# In practice you want to test more parameter combinations\n",
        "for i in range(5):\n",
        "  hyperparameter = optimizer.ask()\n",
        "  hyperparameter_dict = dict(zip(sorted(param_grid.keys()), hyperparameter))\n",
        "  print(hyperparameter_dict)\n",
        "  score = fit_autoencoder(hyperparameter_dict)\n",
        "  optimizer.tell(hyperparameter, score)"
      ],
      "metadata": {
        "id": "OF6cQkApKsjC"
      },
      "execution_count": null,
      "outputs": []
    },
    {
      "cell_type": "code",
      "source": [
        "# tested combinations\n",
        "optimizer.Xi"
      ],
      "metadata": {
        "id": "Q0Ht4DtUKtyK"
      },
      "execution_count": null,
      "outputs": []
    },
    {
      "cell_type": "code",
      "source": [
        "# results\n",
        "optimizer.yi"
      ],
      "metadata": {
        "id": "7GzB7oXRKuyy"
      },
      "execution_count": null,
      "outputs": []
    }
  ],
  "metadata": {
    "colab": {
      "provenance": [],
      "toc_visible": true
    },
    "kernelspec": {
      "display_name": "Python 3 (ipykernel)",
      "language": "python",
      "name": "python3"
    },
    "language_info": {
      "codemirror_mode": {
        "name": "ipython",
        "version": 3
      },
      "file_extension": ".py",
      "mimetype": "text/x-python",
      "name": "python",
      "nbconvert_exporter": "python",
      "pygments_lexer": "ipython3",
      "version": "3.7.11"
    }
  },
  "nbformat": 4,
  "nbformat_minor": 0
}